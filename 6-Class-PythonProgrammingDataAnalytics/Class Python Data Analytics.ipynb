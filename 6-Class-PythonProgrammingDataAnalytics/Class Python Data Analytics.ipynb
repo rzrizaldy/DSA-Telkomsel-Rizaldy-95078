{
 "cells": [
  {
   "cell_type": "code",
   "execution_count": 1,
   "metadata": {},
   "outputs": [
    {
     "data": {
      "text/plain": [
       "\"Jum'at\""
      ]
     },
     "execution_count": 1,
     "metadata": {},
     "output_type": "execute_result"
    }
   ],
   "source": [
    "\"Jum'at\""
   ]
  },
  {
   "cell_type": "code",
   "execution_count": 6,
   "metadata": {},
   "outputs": [
    {
     "name": "stdout",
     "output_type": "stream",
     "text": [
      "halo\n",
      "end\n"
     ]
    }
   ],
   "source": [
    "if True:\n",
    "    print(\"halo\")\n",
    "print(\"end\")"
   ]
  },
  {
   "cell_type": "code",
   "execution_count": 35,
   "metadata": {},
   "outputs": [
    {
     "name": "stdout",
     "output_type": "stream",
     "text": [
      "M  O  N  G  G  A\n"
     ]
    }
   ],
   "source": [
    "for i in range (1,j):\n",
    "    x = \"MONGGA\"\n",
    "    spaces = \"\"\n",
    "    for j in range(i):\n",
    "        spaces += \" \"\n",
    "        y = spaces.join(x)\n",
    "print(y)"
   ]
  },
  {
   "cell_type": "code",
   "execution_count": 46,
   "metadata": {},
   "outputs": [
    {
     "name": "stdout",
     "output_type": "stream",
     "text": [
      "Enter a word: yay\n",
      "TRUE\n"
     ]
    }
   ],
   "source": [
    "#program palindrom\n",
    "\n",
    "kata = input(\"Enter a word: \")\n",
    "\n",
    "if kata == kata[::-1]:\n",
    "    print(\"TRUE\")\n",
    "else:\n",
    "    print(\"FALSE\")\n"
   ]
  },
  {
   "cell_type": "code",
   "execution_count": null,
   "metadata": {},
   "outputs": [],
   "source": [
    "def faktorial(x):\n",
    "    if x == 0 or x == 1:\n",
    "        "
   ]
  },
  {
   "cell_type": "code",
   "execution_count": 47,
   "metadata": {},
   "outputs": [
    {
     "name": "stdout",
     "output_type": "stream",
     "text": [
      "Select operation.\n",
      "1.Add\n",
      "2.Subtract\n",
      "3.Multiply\n",
      "4.Divide\n",
      "Enter choice(1/2/3/4):1\n",
      "Enter first number: 5\n",
      "Enter second number: 2\n",
      "5 + 2 = 7\n"
     ]
    }
   ],
   "source": [
    "import kalkulator"
   ]
  },
  {
   "cell_type": "code",
   "execution_count": 65,
   "metadata": {},
   "outputs": [
    {
     "name": "stdout",
     "output_type": "stream",
     "text": [
      "Masukan Angka:10\n",
      "Tebakan terlalu kecil\n",
      "Masukan Angka:100\n",
      "Tebakan terlalu kecil\n",
      "Masukan Angka:270\n",
      "Tebakan terlalu kecil\n",
      "Masukan Angka:500\n",
      "Tebakan terlalu besar\n",
      "Masukan Angka:250\n",
      "Tebakan terlalu kecil\n",
      "Masukan Angka:450\n",
      "Tebakan terlalu besar\n",
      "Masukan Angka:220\n",
      "Tebakan terlalu kecil\n",
      "Masukan Angka:270\n",
      "Tebakan terlalu kecil\n",
      "Masukan Angka:350\n",
      "Tebakan terlalu besar\n",
      "Masukan Angka:330\n",
      "Tebakan terlalu besar\n",
      "Masukan Angka:310\n",
      "Tebakan terlalu besar\n",
      "Masukan Angka:300\n",
      "Tebakan terlalu besar\n",
      "Masukan Angka:290\n",
      "Tebakan terlalu besar\n",
      "Masukan Angka:280\n",
      "Tebakan terlalu kecil\n",
      "Masukan Angka:288\n",
      "Tebakan terlalu besar\n",
      "Masukan Angka:285\n",
      "Tebakan terlalu kecil\n",
      "Masukan Angka:286\n",
      "Tebakan terlalu kecil\n",
      "Masukan Angka:287\n",
      "Tepat!\n",
      "Jawaban adalah 287\n"
     ]
    }
   ],
   "source": [
    "#number random\n",
    "\n",
    "import random\n",
    "from random import randint\n",
    "\n",
    "value = randint(0,999)\n",
    "guess = value+1\n",
    "while guess != value:\n",
    "    guess = int(input(\"Masukan Angka:\"))\n",
    "    if guess == value:\n",
    "        print(\"Tepat!\")\n",
    "        print(\"Jawaban adalah\", value)\n",
    "    elif guess < value:\n",
    "        print(\"Tebakan terlalu kecil\")\n",
    "    else:\n",
    "        print(\"Tebakan terlalu besar\")"
   ]
  },
  {
   "cell_type": "code",
   "execution_count": null,
   "metadata": {},
   "outputs": [],
   "source": []
  },
  {
   "cell_type": "code",
   "execution_count": null,
   "metadata": {},
   "outputs": [],
   "source": []
  }
 ],
 "metadata": {
  "kernelspec": {
   "display_name": "Python 3",
   "language": "python",
   "name": "python3"
  },
  "language_info": {
   "codemirror_mode": {
    "name": "ipython",
    "version": 3
   },
   "file_extension": ".py",
   "mimetype": "text/x-python",
   "name": "python",
   "nbconvert_exporter": "python",
   "pygments_lexer": "ipython3",
   "version": "3.7.3"
  }
 },
 "nbformat": 4,
 "nbformat_minor": 2
}
