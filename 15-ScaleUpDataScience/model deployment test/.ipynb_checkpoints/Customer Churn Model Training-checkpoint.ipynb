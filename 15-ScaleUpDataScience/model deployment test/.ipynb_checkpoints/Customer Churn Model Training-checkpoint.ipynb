{
 "cells": [
  {
   "cell_type": "code",
   "execution_count": 42,
   "metadata": {},
   "outputs": [],
   "source": [
    "import pandas as pd\n",
    "import numpy as np\n",
    "pd.set_option('display.max_columns', None)"
   ]
  },
  {
   "cell_type": "code",
   "execution_count": 43,
   "metadata": {},
   "outputs": [],
   "source": [
    "df = pd.read_csv('ca/customerchurn_140819.txt', sep='|')"
   ]
  },
  {
   "cell_type": "code",
   "execution_count": 56,
   "metadata": {},
   "outputs": [],
   "source": [
    "df.drop(['CIF_NUMBER', 'IDR_AVERAGE_YTD_BALANCE'], axis=1, inplace=True)"
   ]
  },
  {
   "cell_type": "code",
   "execution_count": 57,
   "metadata": {},
   "outputs": [],
   "source": [
    "df = df[df['GENDER'] != 'O']"
   ]
  },
  {
   "cell_type": "code",
   "execution_count": 58,
   "metadata": {},
   "outputs": [],
   "source": [
    "df.loc[df['MARITAL_STATUS'] == 'Widow', 'MARITAL_STATUS'] = 'Separated'\n",
    "df.loc[df['MARITAL_STATUS'] == 'Widower', 'MARITAL_STATUS'] = 'Separated'\n",
    "df.loc[df['MARITAL_STATUS'] == 'Divorced', 'MARITAL_STATUS'] = 'Separated'\n",
    "df.loc[df['MARITAL_STATUS'] == 'De Facto (Common Law)', 'MARITAL_STATUS'] = 'Married'"
   ]
  },
  {
   "cell_type": "code",
   "execution_count": 59,
   "metadata": {},
   "outputs": [
    {
     "data": {
      "text/plain": [
       "GENDER                      object\n",
       "AGE                        float64\n",
       "RESIDENT_DESC               object\n",
       "MARITAL_STATUS              object\n",
       "INCOME_LEVEL               float64\n",
       "ACTIVE_FLAG                 object\n",
       "SEGMEN                      object\n",
       "CUSTOMER_SENIORITY         float64\n",
       "IDR_AVERAGE_MTD_BALANCE    float64\n",
       "SAVING_ACCOUNT               int64\n",
       "DEPOSITO                     int64\n",
       "REKSADANA                    int64\n",
       "BANCASSURANCE                int64\n",
       "DORMANT_FLAG                object\n",
       "dtype: object"
      ]
     },
     "execution_count": 59,
     "metadata": {},
     "output_type": "execute_result"
    }
   ],
   "source": [
    "df.dtypes"
   ]
  },
  {
   "cell_type": "code",
   "execution_count": 60,
   "metadata": {},
   "outputs": [],
   "source": [
    "df['AGE'] = df['AGE'].apply(int)\n",
    "df['CUSTOMER_SENIORITY'] = df['CUSTOMER_SENIORITY'].apply(int)\n",
    "df['INCOME_LEVEL'] = df['INCOME_LEVEL'].apply(str)\n",
    "df['IDR_AVERAGE_MTD_BALANCE'] = df['IDR_AVERAGE_MTD_BALANCE'].apply(int)"
   ]
  },
  {
   "cell_type": "code",
   "execution_count": 61,
   "metadata": {},
   "outputs": [],
   "source": [
    "df.loc[df['RESIDENT_DESC'] == 'Y', 'RESIDENT_DESC'] = '1'\n",
    "df.loc[df['RESIDENT_DESC'] == 'N', 'RESIDENT_DESC'] = '0'\n",
    "df.loc[df['ACTIVE_FLAG'] == 'ACTIVE', 'ACTIVE_FLAG'] = '1'\n",
    "df.loc[df['ACTIVE_FLAG'] == 'NON ACTIVE', 'ACTIVE_FLAG'] = '0'\n",
    "df.loc[df['DORMANT_FLAG'] == 'Y', 'DORMANT_FLAG'] = '1'\n",
    "df.loc[df['DORMANT_FLAG'] == 'N', 'DORMANT_FLAG'] = '0'\n",
    "df.loc[df['SEGMEN'] == 'MASS MARKET', 'SEGMEN'] = '1'\n",
    "df.loc[df['SEGMEN'] == 'NEAR VIP', 'SEGMEN'] = '2'\n",
    "df.loc[df['SEGMEN'] == 'VIP', 'SEGMEN'] = '3'\n",
    "df.loc[df['SEGMEN'] == 'VVIP', 'SEGMEN'] = '4'\n",
    "df.loc[df['SEGMEN'] == 'SVVIP', 'SEGMEN'] = '5'\n",
    "df.loc[df['GENDER'] == 'M', 'GENDER'] = '1'\n",
    "df.loc[df['GENDER'] == 'F', 'GENDER'] = '2'\n",
    "df.loc[df['MARITAL_STATUS'] == 'Single', 'MARITAL_STATUS'] = '1'\n",
    "df.loc[df['MARITAL_STATUS'] == 'Married', 'MARITAL_STATUS'] = '2'\n",
    "df.loc[df['MARITAL_STATUS'] == 'Separated', 'MARITAL_STATUS'] = '3'"
   ]
  },
  {
   "cell_type": "code",
   "execution_count": 62,
   "metadata": {},
   "outputs": [],
   "source": [
    "df['RESIDENT_DESC'] = df['RESIDENT_DESC'].apply(int)\n",
    "df['ACTIVE_FLAG'] = df['ACTIVE_FLAG'].apply(int)\n",
    "df['DORMANT_FLAG'] = df['DORMANT_FLAG'].apply(int)"
   ]
  },
  {
   "cell_type": "code",
   "execution_count": 63,
   "metadata": {},
   "outputs": [
    {
     "data": {
      "text/html": [
       "<div>\n",
       "<style scoped>\n",
       "    .dataframe tbody tr th:only-of-type {\n",
       "        vertical-align: middle;\n",
       "    }\n",
       "\n",
       "    .dataframe tbody tr th {\n",
       "        vertical-align: top;\n",
       "    }\n",
       "\n",
       "    .dataframe thead th {\n",
       "        text-align: right;\n",
       "    }\n",
       "</style>\n",
       "<table border=\"1\" class=\"dataframe\">\n",
       "  <thead>\n",
       "    <tr style=\"text-align: right;\">\n",
       "      <th></th>\n",
       "      <th>GENDER</th>\n",
       "      <th>AGE</th>\n",
       "      <th>RESIDENT_DESC</th>\n",
       "      <th>MARITAL_STATUS</th>\n",
       "      <th>INCOME_LEVEL</th>\n",
       "      <th>ACTIVE_FLAG</th>\n",
       "      <th>SEGMEN</th>\n",
       "      <th>CUSTOMER_SENIORITY</th>\n",
       "      <th>IDR_AVERAGE_MTD_BALANCE</th>\n",
       "      <th>SAVING_ACCOUNT</th>\n",
       "      <th>DEPOSITO</th>\n",
       "      <th>REKSADANA</th>\n",
       "      <th>BANCASSURANCE</th>\n",
       "      <th>DORMANT_FLAG</th>\n",
       "    </tr>\n",
       "  </thead>\n",
       "  <tbody>\n",
       "    <tr>\n",
       "      <th>0</th>\n",
       "      <td>1</td>\n",
       "      <td>51</td>\n",
       "      <td>1</td>\n",
       "      <td>2</td>\n",
       "      <td>1.0</td>\n",
       "      <td>1</td>\n",
       "      <td>1</td>\n",
       "      <td>598</td>\n",
       "      <td>0</td>\n",
       "      <td>0</td>\n",
       "      <td>0</td>\n",
       "      <td>0</td>\n",
       "      <td>0</td>\n",
       "      <td>1</td>\n",
       "    </tr>\n",
       "    <tr>\n",
       "      <th>1</th>\n",
       "      <td>2</td>\n",
       "      <td>39</td>\n",
       "      <td>1</td>\n",
       "      <td>2</td>\n",
       "      <td>1.0</td>\n",
       "      <td>1</td>\n",
       "      <td>1</td>\n",
       "      <td>499</td>\n",
       "      <td>0</td>\n",
       "      <td>1</td>\n",
       "      <td>0</td>\n",
       "      <td>0</td>\n",
       "      <td>0</td>\n",
       "      <td>1</td>\n",
       "    </tr>\n",
       "    <tr>\n",
       "      <th>2</th>\n",
       "      <td>1</td>\n",
       "      <td>29</td>\n",
       "      <td>1</td>\n",
       "      <td>1</td>\n",
       "      <td>1.0</td>\n",
       "      <td>1</td>\n",
       "      <td>1</td>\n",
       "      <td>607</td>\n",
       "      <td>0</td>\n",
       "      <td>0</td>\n",
       "      <td>0</td>\n",
       "      <td>0</td>\n",
       "      <td>0</td>\n",
       "      <td>1</td>\n",
       "    </tr>\n",
       "    <tr>\n",
       "      <th>3</th>\n",
       "      <td>2</td>\n",
       "      <td>30</td>\n",
       "      <td>1</td>\n",
       "      <td>1</td>\n",
       "      <td>5.0</td>\n",
       "      <td>1</td>\n",
       "      <td>3</td>\n",
       "      <td>206</td>\n",
       "      <td>1624812</td>\n",
       "      <td>1</td>\n",
       "      <td>0</td>\n",
       "      <td>0</td>\n",
       "      <td>1</td>\n",
       "      <td>0</td>\n",
       "    </tr>\n",
       "    <tr>\n",
       "      <th>4</th>\n",
       "      <td>1</td>\n",
       "      <td>34</td>\n",
       "      <td>1</td>\n",
       "      <td>1</td>\n",
       "      <td>1.0</td>\n",
       "      <td>1</td>\n",
       "      <td>1</td>\n",
       "      <td>305</td>\n",
       "      <td>0</td>\n",
       "      <td>1</td>\n",
       "      <td>0</td>\n",
       "      <td>0</td>\n",
       "      <td>0</td>\n",
       "      <td>1</td>\n",
       "    </tr>\n",
       "  </tbody>\n",
       "</table>\n",
       "</div>"
      ],
      "text/plain": [
       "  GENDER  AGE  RESIDENT_DESC MARITAL_STATUS INCOME_LEVEL  ACTIVE_FLAG SEGMEN  \\\n",
       "0      1   51              1              2          1.0            1      1   \n",
       "1      2   39              1              2          1.0            1      1   \n",
       "2      1   29              1              1          1.0            1      1   \n",
       "3      2   30              1              1          5.0            1      3   \n",
       "4      1   34              1              1          1.0            1      1   \n",
       "\n",
       "   CUSTOMER_SENIORITY  IDR_AVERAGE_MTD_BALANCE  SAVING_ACCOUNT  DEPOSITO  \\\n",
       "0                 598                        0               0         0   \n",
       "1                 499                        0               1         0   \n",
       "2                 607                        0               0         0   \n",
       "3                 206                  1624812               1         0   \n",
       "4                 305                        0               1         0   \n",
       "\n",
       "   REKSADANA  BANCASSURANCE  DORMANT_FLAG  \n",
       "0          0              0             1  \n",
       "1          0              0             1  \n",
       "2          0              0             1  \n",
       "3          0              1             0  \n",
       "4          0              0             1  "
      ]
     },
     "execution_count": 63,
     "metadata": {},
     "output_type": "execute_result"
    }
   ],
   "source": [
    "df.head(5)"
   ]
  },
  {
   "cell_type": "code",
   "execution_count": 64,
   "metadata": {},
   "outputs": [],
   "source": [
    "df['INCOME_LEVEL'] = df['INCOME_LEVEL'].map(lambda x: x.rstrip('.0'))"
   ]
  },
  {
   "cell_type": "code",
   "execution_count": 65,
   "metadata": {},
   "outputs": [
    {
     "data": {
      "text/html": [
       "<div>\n",
       "<style scoped>\n",
       "    .dataframe tbody tr th:only-of-type {\n",
       "        vertical-align: middle;\n",
       "    }\n",
       "\n",
       "    .dataframe tbody tr th {\n",
       "        vertical-align: top;\n",
       "    }\n",
       "\n",
       "    .dataframe thead th {\n",
       "        text-align: right;\n",
       "    }\n",
       "</style>\n",
       "<table border=\"1\" class=\"dataframe\">\n",
       "  <thead>\n",
       "    <tr style=\"text-align: right;\">\n",
       "      <th></th>\n",
       "      <th>GENDER</th>\n",
       "      <th>AGE</th>\n",
       "      <th>RESIDENT_DESC</th>\n",
       "      <th>MARITAL_STATUS</th>\n",
       "      <th>INCOME_LEVEL</th>\n",
       "      <th>ACTIVE_FLAG</th>\n",
       "      <th>SEGMEN</th>\n",
       "      <th>CUSTOMER_SENIORITY</th>\n",
       "      <th>IDR_AVERAGE_MTD_BALANCE</th>\n",
       "      <th>SAVING_ACCOUNT</th>\n",
       "      <th>DEPOSITO</th>\n",
       "      <th>REKSADANA</th>\n",
       "      <th>BANCASSURANCE</th>\n",
       "      <th>DORMANT_FLAG</th>\n",
       "    </tr>\n",
       "  </thead>\n",
       "  <tbody>\n",
       "    <tr>\n",
       "      <th>0</th>\n",
       "      <td>1</td>\n",
       "      <td>51</td>\n",
       "      <td>1</td>\n",
       "      <td>2</td>\n",
       "      <td>1</td>\n",
       "      <td>1</td>\n",
       "      <td>1</td>\n",
       "      <td>598</td>\n",
       "      <td>0</td>\n",
       "      <td>0</td>\n",
       "      <td>0</td>\n",
       "      <td>0</td>\n",
       "      <td>0</td>\n",
       "      <td>1</td>\n",
       "    </tr>\n",
       "    <tr>\n",
       "      <th>1</th>\n",
       "      <td>2</td>\n",
       "      <td>39</td>\n",
       "      <td>1</td>\n",
       "      <td>2</td>\n",
       "      <td>1</td>\n",
       "      <td>1</td>\n",
       "      <td>1</td>\n",
       "      <td>499</td>\n",
       "      <td>0</td>\n",
       "      <td>1</td>\n",
       "      <td>0</td>\n",
       "      <td>0</td>\n",
       "      <td>0</td>\n",
       "      <td>1</td>\n",
       "    </tr>\n",
       "    <tr>\n",
       "      <th>2</th>\n",
       "      <td>1</td>\n",
       "      <td>29</td>\n",
       "      <td>1</td>\n",
       "      <td>1</td>\n",
       "      <td>1</td>\n",
       "      <td>1</td>\n",
       "      <td>1</td>\n",
       "      <td>607</td>\n",
       "      <td>0</td>\n",
       "      <td>0</td>\n",
       "      <td>0</td>\n",
       "      <td>0</td>\n",
       "      <td>0</td>\n",
       "      <td>1</td>\n",
       "    </tr>\n",
       "    <tr>\n",
       "      <th>3</th>\n",
       "      <td>2</td>\n",
       "      <td>30</td>\n",
       "      <td>1</td>\n",
       "      <td>1</td>\n",
       "      <td>5</td>\n",
       "      <td>1</td>\n",
       "      <td>3</td>\n",
       "      <td>206</td>\n",
       "      <td>1624812</td>\n",
       "      <td>1</td>\n",
       "      <td>0</td>\n",
       "      <td>0</td>\n",
       "      <td>1</td>\n",
       "      <td>0</td>\n",
       "    </tr>\n",
       "    <tr>\n",
       "      <th>4</th>\n",
       "      <td>1</td>\n",
       "      <td>34</td>\n",
       "      <td>1</td>\n",
       "      <td>1</td>\n",
       "      <td>1</td>\n",
       "      <td>1</td>\n",
       "      <td>1</td>\n",
       "      <td>305</td>\n",
       "      <td>0</td>\n",
       "      <td>1</td>\n",
       "      <td>0</td>\n",
       "      <td>0</td>\n",
       "      <td>0</td>\n",
       "      <td>1</td>\n",
       "    </tr>\n",
       "  </tbody>\n",
       "</table>\n",
       "</div>"
      ],
      "text/plain": [
       "  GENDER  AGE  RESIDENT_DESC MARITAL_STATUS INCOME_LEVEL  ACTIVE_FLAG SEGMEN  \\\n",
       "0      1   51              1              2            1            1      1   \n",
       "1      2   39              1              2            1            1      1   \n",
       "2      1   29              1              1            1            1      1   \n",
       "3      2   30              1              1            5            1      3   \n",
       "4      1   34              1              1            1            1      1   \n",
       "\n",
       "   CUSTOMER_SENIORITY  IDR_AVERAGE_MTD_BALANCE  SAVING_ACCOUNT  DEPOSITO  \\\n",
       "0                 598                        0               0         0   \n",
       "1                 499                        0               1         0   \n",
       "2                 607                        0               0         0   \n",
       "3                 206                  1624812               1         0   \n",
       "4                 305                        0               1         0   \n",
       "\n",
       "   REKSADANA  BANCASSURANCE  DORMANT_FLAG  \n",
       "0          0              0             1  \n",
       "1          0              0             1  \n",
       "2          0              0             1  \n",
       "3          0              1             0  \n",
       "4          0              0             1  "
      ]
     },
     "execution_count": 65,
     "metadata": {},
     "output_type": "execute_result"
    }
   ],
   "source": [
    "df.head(5)"
   ]
  },
  {
   "cell_type": "markdown",
   "metadata": {},
   "source": [
    "FEATURE ENGINEERING"
   ]
  },
  {
   "cell_type": "code",
   "execution_count": 66,
   "metadata": {},
   "outputs": [],
   "source": [
    "# Split Train, test data\n",
    "df_train = df.sample(frac=0.8,random_state=100000)\n",
    "df_test = df.drop(df_train.index)"
   ]
  },
  {
   "cell_type": "code",
   "execution_count": 67,
   "metadata": {},
   "outputs": [
    {
     "data": {
      "text/plain": [
       "1103511"
      ]
     },
     "execution_count": 67,
     "metadata": {},
     "output_type": "execute_result"
    }
   ],
   "source": [
    "len(df_train)"
   ]
  },
  {
   "cell_type": "code",
   "execution_count": 68,
   "metadata": {},
   "outputs": [
    {
     "data": {
      "text/plain": [
       "275878"
      ]
     },
     "execution_count": 68,
     "metadata": {},
     "output_type": "execute_result"
    }
   ],
   "source": [
    "len(df_test)"
   ]
  },
  {
   "cell_type": "code",
   "execution_count": 69,
   "metadata": {},
   "outputs": [
    {
     "data": {
      "text/html": [
       "<div>\n",
       "<style scoped>\n",
       "    .dataframe tbody tr th:only-of-type {\n",
       "        vertical-align: middle;\n",
       "    }\n",
       "\n",
       "    .dataframe tbody tr th {\n",
       "        vertical-align: top;\n",
       "    }\n",
       "\n",
       "    .dataframe thead th {\n",
       "        text-align: right;\n",
       "    }\n",
       "</style>\n",
       "<table border=\"1\" class=\"dataframe\">\n",
       "  <thead>\n",
       "    <tr style=\"text-align: right;\">\n",
       "      <th></th>\n",
       "      <th>AGE</th>\n",
       "      <th>CUSTOMER_SENIORITY</th>\n",
       "      <th>IDR_AVERAGE_MTD_BALANCE</th>\n",
       "      <th>INCOME_LEVEL</th>\n",
       "      <th>GENDER</th>\n",
       "      <th>MARITAL_STATUS</th>\n",
       "      <th>SEGMEN</th>\n",
       "      <th>RESIDENT_DESC</th>\n",
       "      <th>ACTIVE_FLAG</th>\n",
       "      <th>SAVING_ACCOUNT</th>\n",
       "      <th>DEPOSITO</th>\n",
       "      <th>REKSADANA</th>\n",
       "      <th>BANCASSURANCE</th>\n",
       "    </tr>\n",
       "  </thead>\n",
       "  <tbody>\n",
       "    <tr>\n",
       "      <th>0</th>\n",
       "      <td>51</td>\n",
       "      <td>598</td>\n",
       "      <td>0</td>\n",
       "      <td>1</td>\n",
       "      <td>1</td>\n",
       "      <td>2</td>\n",
       "      <td>1</td>\n",
       "      <td>1</td>\n",
       "      <td>1</td>\n",
       "      <td>0</td>\n",
       "      <td>0</td>\n",
       "      <td>0</td>\n",
       "      <td>0</td>\n",
       "    </tr>\n",
       "    <tr>\n",
       "      <th>1</th>\n",
       "      <td>39</td>\n",
       "      <td>499</td>\n",
       "      <td>0</td>\n",
       "      <td>1</td>\n",
       "      <td>2</td>\n",
       "      <td>2</td>\n",
       "      <td>1</td>\n",
       "      <td>1</td>\n",
       "      <td>1</td>\n",
       "      <td>1</td>\n",
       "      <td>0</td>\n",
       "      <td>0</td>\n",
       "      <td>0</td>\n",
       "    </tr>\n",
       "    <tr>\n",
       "      <th>2</th>\n",
       "      <td>29</td>\n",
       "      <td>607</td>\n",
       "      <td>0</td>\n",
       "      <td>1</td>\n",
       "      <td>1</td>\n",
       "      <td>1</td>\n",
       "      <td>1</td>\n",
       "      <td>1</td>\n",
       "      <td>1</td>\n",
       "      <td>0</td>\n",
       "      <td>0</td>\n",
       "      <td>0</td>\n",
       "      <td>0</td>\n",
       "    </tr>\n",
       "    <tr>\n",
       "      <th>3</th>\n",
       "      <td>30</td>\n",
       "      <td>206</td>\n",
       "      <td>1624812</td>\n",
       "      <td>5</td>\n",
       "      <td>2</td>\n",
       "      <td>1</td>\n",
       "      <td>3</td>\n",
       "      <td>1</td>\n",
       "      <td>1</td>\n",
       "      <td>1</td>\n",
       "      <td>0</td>\n",
       "      <td>0</td>\n",
       "      <td>1</td>\n",
       "    </tr>\n",
       "    <tr>\n",
       "      <th>4</th>\n",
       "      <td>34</td>\n",
       "      <td>305</td>\n",
       "      <td>0</td>\n",
       "      <td>1</td>\n",
       "      <td>1</td>\n",
       "      <td>1</td>\n",
       "      <td>1</td>\n",
       "      <td>1</td>\n",
       "      <td>1</td>\n",
       "      <td>1</td>\n",
       "      <td>0</td>\n",
       "      <td>0</td>\n",
       "      <td>0</td>\n",
       "    </tr>\n",
       "  </tbody>\n",
       "</table>\n",
       "</div>"
      ],
      "text/plain": [
       "   AGE  CUSTOMER_SENIORITY  IDR_AVERAGE_MTD_BALANCE INCOME_LEVEL GENDER  \\\n",
       "0   51                 598                        0            1      1   \n",
       "1   39                 499                        0            1      2   \n",
       "2   29                 607                        0            1      1   \n",
       "3   30                 206                  1624812            5      2   \n",
       "4   34                 305                        0            1      1   \n",
       "\n",
       "  MARITAL_STATUS SEGMEN  RESIDENT_DESC  ACTIVE_FLAG  SAVING_ACCOUNT  DEPOSITO  \\\n",
       "0              2      1              1            1               0         0   \n",
       "1              2      1              1            1               1         0   \n",
       "2              1      1              1            1               0         0   \n",
       "3              1      3              1            1               1         0   \n",
       "4              1      1              1            1               1         0   \n",
       "\n",
       "   REKSADANA  BANCASSURANCE  \n",
       "0          0              0  \n",
       "1          0              0  \n",
       "2          0              0  \n",
       "3          0              1  \n",
       "4          0              0  "
      ]
     },
     "execution_count": 69,
     "metadata": {},
     "output_type": "execute_result"
    }
   ],
   "source": [
    "continuous_vars = ['AGE', 'CUSTOMER_SENIORITY', 'IDR_AVERAGE_MTD_BALANCE']\n",
    "cat_vars = ['INCOME_LEVEL', 'GENDER','MARITAL_STATUS', 'SEGMEN', 'RESIDENT_DESC', 'ACTIVE_FLAG', 'SAVING_ACCOUNT', 'DEPOSITO', 'REKSADANA', 'BANCASSURANCE']\n",
    "dfz = df[continuous_vars + cat_vars]\n",
    "dfz.head()"
   ]
  },
  {
   "cell_type": "code",
   "execution_count": 70,
   "metadata": {},
   "outputs": [],
   "source": [
    "model_columns = list(dfz.columns)"
   ]
  },
  {
   "cell_type": "code",
   "execution_count": 86,
   "metadata": {},
   "outputs": [
    {
     "data": {
      "text/plain": [
       "['AGE',\n",
       " 'CUSTOMER_SENIORITY',\n",
       " 'IDR_AVERAGE_MTD_BALANCE',\n",
       " 'INCOME_LEVEL',\n",
       " 'GENDER',\n",
       " 'MARITAL_STATUS',\n",
       " 'SEGMEN',\n",
       " 'RESIDENT_DESC',\n",
       " 'ACTIVE_FLAG',\n",
       " 'SAVING_ACCOUNT',\n",
       " 'DEPOSITO',\n",
       " 'REKSADANA',\n",
       " 'BANCASSURANCE']"
      ]
     },
     "execution_count": 86,
     "metadata": {},
     "output_type": "execute_result"
    }
   ],
   "source": [
    "model_columns"
   ]
  },
  {
   "cell_type": "markdown",
   "metadata": {},
   "source": [
    "DATA PREP for MODEL FITTING"
   ]
  },
  {
   "cell_type": "code",
   "execution_count": 72,
   "metadata": {},
   "outputs": [
    {
     "data": {
      "text/html": [
       "<div>\n",
       "<style scoped>\n",
       "    .dataframe tbody tr th:only-of-type {\n",
       "        vertical-align: middle;\n",
       "    }\n",
       "\n",
       "    .dataframe tbody tr th {\n",
       "        vertical-align: top;\n",
       "    }\n",
       "\n",
       "    .dataframe thead th {\n",
       "        text-align: right;\n",
       "    }\n",
       "</style>\n",
       "<table border=\"1\" class=\"dataframe\">\n",
       "  <thead>\n",
       "    <tr style=\"text-align: right;\">\n",
       "      <th></th>\n",
       "      <th>DORMANT_FLAG</th>\n",
       "      <th>AGE</th>\n",
       "      <th>CUSTOMER_SENIORITY</th>\n",
       "      <th>IDR_AVERAGE_MTD_BALANCE</th>\n",
       "      <th>INCOME_LEVEL</th>\n",
       "      <th>GENDER</th>\n",
       "      <th>MARITAL_STATUS</th>\n",
       "      <th>SEGMEN</th>\n",
       "      <th>RESIDENT_DESC</th>\n",
       "      <th>ACTIVE_FLAG</th>\n",
       "      <th>SAVING_ACCOUNT</th>\n",
       "      <th>DEPOSITO</th>\n",
       "      <th>REKSADANA</th>\n",
       "      <th>BANCASSURANCE</th>\n",
       "    </tr>\n",
       "  </thead>\n",
       "  <tbody>\n",
       "    <tr>\n",
       "      <th>2018825</th>\n",
       "      <td>0</td>\n",
       "      <td>25</td>\n",
       "      <td>207</td>\n",
       "      <td>131488</td>\n",
       "      <td>1</td>\n",
       "      <td>1</td>\n",
       "      <td>2</td>\n",
       "      <td>1</td>\n",
       "      <td>1</td>\n",
       "      <td>1</td>\n",
       "      <td>1</td>\n",
       "      <td>0</td>\n",
       "      <td>0</td>\n",
       "      <td>0</td>\n",
       "    </tr>\n",
       "    <tr>\n",
       "      <th>1359915</th>\n",
       "      <td>1</td>\n",
       "      <td>26</td>\n",
       "      <td>707</td>\n",
       "      <td>5759</td>\n",
       "      <td>1</td>\n",
       "      <td>1</td>\n",
       "      <td>1</td>\n",
       "      <td>1</td>\n",
       "      <td>1</td>\n",
       "      <td>1</td>\n",
       "      <td>1</td>\n",
       "      <td>0</td>\n",
       "      <td>0</td>\n",
       "      <td>0</td>\n",
       "    </tr>\n",
       "    <tr>\n",
       "      <th>693224</th>\n",
       "      <td>1</td>\n",
       "      <td>43</td>\n",
       "      <td>705</td>\n",
       "      <td>675086</td>\n",
       "      <td>1</td>\n",
       "      <td>2</td>\n",
       "      <td>1</td>\n",
       "      <td>1</td>\n",
       "      <td>1</td>\n",
       "      <td>1</td>\n",
       "      <td>1</td>\n",
       "      <td>0</td>\n",
       "      <td>0</td>\n",
       "      <td>0</td>\n",
       "    </tr>\n",
       "    <tr>\n",
       "      <th>2588041</th>\n",
       "      <td>0</td>\n",
       "      <td>59</td>\n",
       "      <td>207</td>\n",
       "      <td>270599</td>\n",
       "      <td>1</td>\n",
       "      <td>1</td>\n",
       "      <td>2</td>\n",
       "      <td>1</td>\n",
       "      <td>1</td>\n",
       "      <td>1</td>\n",
       "      <td>1</td>\n",
       "      <td>0</td>\n",
       "      <td>0</td>\n",
       "      <td>0</td>\n",
       "    </tr>\n",
       "    <tr>\n",
       "      <th>2169923</th>\n",
       "      <td>0</td>\n",
       "      <td>48</td>\n",
       "      <td>200</td>\n",
       "      <td>22000</td>\n",
       "      <td>2</td>\n",
       "      <td>1</td>\n",
       "      <td>2</td>\n",
       "      <td>1</td>\n",
       "      <td>1</td>\n",
       "      <td>1</td>\n",
       "      <td>1</td>\n",
       "      <td>0</td>\n",
       "      <td>0</td>\n",
       "      <td>0</td>\n",
       "    </tr>\n",
       "  </tbody>\n",
       "</table>\n",
       "</div>"
      ],
      "text/plain": [
       "         DORMANT_FLAG  AGE  CUSTOMER_SENIORITY  IDR_AVERAGE_MTD_BALANCE  \\\n",
       "2018825             0   25                 207                   131488   \n",
       "1359915             1   26                 707                     5759   \n",
       "693224              1   43                 705                   675086   \n",
       "2588041             0   59                 207                   270599   \n",
       "2169923             0   48                 200                    22000   \n",
       "\n",
       "        INCOME_LEVEL GENDER MARITAL_STATUS SEGMEN  RESIDENT_DESC  ACTIVE_FLAG  \\\n",
       "2018825            1      1              2      1              1            1   \n",
       "1359915            1      1              1      1              1            1   \n",
       "693224             1      2              1      1              1            1   \n",
       "2588041            1      1              2      1              1            1   \n",
       "2169923            2      1              2      1              1            1   \n",
       "\n",
       "         SAVING_ACCOUNT  DEPOSITO  REKSADANA  BANCASSURANCE  \n",
       "2018825               1         0          0              0  \n",
       "1359915               1         0          0              0  \n",
       "693224                1         0          0              0  \n",
       "2588041               1         0          0              0  \n",
       "2169923               1         0          0              0  "
      ]
     },
     "execution_count": 72,
     "metadata": {},
     "output_type": "execute_result"
    }
   ],
   "source": [
    "# Arrange columns by data type for easier manipulation\n",
    "continuous_vars = ['AGE', 'CUSTOMER_SENIORITY', 'IDR_AVERAGE_MTD_BALANCE']\n",
    "cat_vars = ['INCOME_LEVEL', 'GENDER','MARITAL_STATUS', 'SEGMEN', 'RESIDENT_DESC', 'ACTIVE_FLAG', 'SAVING_ACCOUNT', 'DEPOSITO', 'REKSADANA', 'BANCASSURANCE']\n",
    "df_train = df_train[['DORMANT_FLAG'] + continuous_vars + cat_vars]\n",
    "df_train.head()"
   ]
  },
  {
   "cell_type": "code",
   "execution_count": 40,
   "metadata": {},
   "outputs": [
    {
     "data": {
      "text/html": [
       "<div>\n",
       "<style scoped>\n",
       "    .dataframe tbody tr th:only-of-type {\n",
       "        vertical-align: middle;\n",
       "    }\n",
       "\n",
       "    .dataframe tbody tr th {\n",
       "        vertical-align: top;\n",
       "    }\n",
       "\n",
       "    .dataframe thead th {\n",
       "        text-align: right;\n",
       "    }\n",
       "</style>\n",
       "<table border=\"1\" class=\"dataframe\">\n",
       "  <thead>\n",
       "    <tr style=\"text-align: right;\">\n",
       "      <th></th>\n",
       "      <th>GENDER</th>\n",
       "      <th>AGE</th>\n",
       "      <th>RESIDENT_DESC</th>\n",
       "      <th>MARITAL_STATUS</th>\n",
       "      <th>INCOME_LEVEL</th>\n",
       "      <th>ACTIVE_FLAG</th>\n",
       "      <th>SEGMEN</th>\n",
       "      <th>CUSTOMER_SENIORITY</th>\n",
       "      <th>IDR_AVERAGE_MTD_BALANCE</th>\n",
       "      <th>SAVING_ACCOUNT</th>\n",
       "      <th>DEPOSITO</th>\n",
       "      <th>REKSADANA</th>\n",
       "      <th>BANCASSURANCE</th>\n",
       "      <th>DORMANT_FLAG</th>\n",
       "    </tr>\n",
       "  </thead>\n",
       "  <tbody>\n",
       "    <tr>\n",
       "      <th>0</th>\n",
       "      <td>2</td>\n",
       "      <td>51</td>\n",
       "      <td>1</td>\n",
       "      <td>Married</td>\n",
       "      <td>1</td>\n",
       "      <td>1</td>\n",
       "      <td>1</td>\n",
       "      <td>598</td>\n",
       "      <td>0</td>\n",
       "      <td>0</td>\n",
       "      <td>0</td>\n",
       "      <td>0</td>\n",
       "      <td>0</td>\n",
       "      <td>1</td>\n",
       "    </tr>\n",
       "    <tr>\n",
       "      <th>1</th>\n",
       "      <td>2</td>\n",
       "      <td>39</td>\n",
       "      <td>1</td>\n",
       "      <td>Married</td>\n",
       "      <td>1</td>\n",
       "      <td>1</td>\n",
       "      <td>1</td>\n",
       "      <td>499</td>\n",
       "      <td>0</td>\n",
       "      <td>1</td>\n",
       "      <td>0</td>\n",
       "      <td>0</td>\n",
       "      <td>0</td>\n",
       "      <td>1</td>\n",
       "    </tr>\n",
       "    <tr>\n",
       "      <th>2</th>\n",
       "      <td>1</td>\n",
       "      <td>29</td>\n",
       "      <td>1</td>\n",
       "      <td>1</td>\n",
       "      <td>1</td>\n",
       "      <td>1</td>\n",
       "      <td>1</td>\n",
       "      <td>607</td>\n",
       "      <td>0</td>\n",
       "      <td>0</td>\n",
       "      <td>0</td>\n",
       "      <td>0</td>\n",
       "      <td>0</td>\n",
       "      <td>1</td>\n",
       "    </tr>\n",
       "    <tr>\n",
       "      <th>3</th>\n",
       "      <td>2</td>\n",
       "      <td>30</td>\n",
       "      <td>1</td>\n",
       "      <td>1</td>\n",
       "      <td>5</td>\n",
       "      <td>1</td>\n",
       "      <td>3</td>\n",
       "      <td>206</td>\n",
       "      <td>1624812</td>\n",
       "      <td>1</td>\n",
       "      <td>0</td>\n",
       "      <td>0</td>\n",
       "      <td>1</td>\n",
       "      <td>0</td>\n",
       "    </tr>\n",
       "    <tr>\n",
       "      <th>4</th>\n",
       "      <td>1</td>\n",
       "      <td>34</td>\n",
       "      <td>1</td>\n",
       "      <td>1</td>\n",
       "      <td>1</td>\n",
       "      <td>1</td>\n",
       "      <td>1</td>\n",
       "      <td>305</td>\n",
       "      <td>0</td>\n",
       "      <td>1</td>\n",
       "      <td>0</td>\n",
       "      <td>0</td>\n",
       "      <td>0</td>\n",
       "      <td>1</td>\n",
       "    </tr>\n",
       "  </tbody>\n",
       "</table>\n",
       "</div>"
      ],
      "text/plain": [
       "  GENDER  AGE  RESIDENT_DESC MARITAL_STATUS INCOME_LEVEL  ACTIVE_FLAG SEGMEN  \\\n",
       "0      2   51              1        Married            1            1      1   \n",
       "1      2   39              1        Married            1            1      1   \n",
       "2      1   29              1              1            1            1      1   \n",
       "3      2   30              1              1            5            1      3   \n",
       "4      1   34              1              1            1            1      1   \n",
       "\n",
       "   CUSTOMER_SENIORITY  IDR_AVERAGE_MTD_BALANCE  SAVING_ACCOUNT  DEPOSITO  \\\n",
       "0                 598                        0               0         0   \n",
       "1                 499                        0               1         0   \n",
       "2                 607                        0               0         0   \n",
       "3                 206                  1624812               1         0   \n",
       "4                 305                        0               1         0   \n",
       "\n",
       "   REKSADANA  BANCASSURANCE  DORMANT_FLAG  \n",
       "0          0              0             1  \n",
       "1          0              0             1  \n",
       "2          0              0             1  \n",
       "3          0              1             0  \n",
       "4          0              0             1  "
      ]
     },
     "execution_count": 40,
     "metadata": {},
     "output_type": "execute_result"
    }
   ],
   "source": [
    "df.head()"
   ]
  },
  {
   "cell_type": "code",
   "execution_count": 98,
   "metadata": {
    "scrolled": true
   },
   "outputs": [
    {
     "data": {
      "text/plain": [
       "DORMANT_FLAG                int64\n",
       "AGE                         int64\n",
       "CUSTOMER_SENIORITY          int64\n",
       "IDR_AVERAGE_MTD_BALANCE     int64\n",
       "INCOME_LEVEL               object\n",
       "GENDER                     object\n",
       "MARITAL_STATUS             object\n",
       "SEGMEN                     object\n",
       "RESIDENT_DESC               int64\n",
       "ACTIVE_FLAG                 int64\n",
       "SAVING_ACCOUNT              int64\n",
       "DEPOSITO                    int64\n",
       "REKSADANA                   int64\n",
       "BANCASSURANCE               int64\n",
       "dtype: object"
      ]
     },
     "execution_count": 98,
     "metadata": {},
     "output_type": "execute_result"
    }
   ],
   "source": [
    "df_train.dtypes"
   ]
  },
  {
   "cell_type": "code",
   "execution_count": 74,
   "metadata": {},
   "outputs": [],
   "source": [
    "# data prep pipeline for test data\n",
    "def DfPrepPipeline(df_predict,df_train_Cols,minVec,maxVec):\n",
    "    # Reorder the columns\n",
    "    continuous_vars = ['AGE', 'CUSTOMER_SENIORITY', 'IDR_AVERAGE_MTD_BALANCE']\n",
    "    cat_vars = ['INCOME_LEVEL', 'GENDER','MARITAL_STATUS', 'SEGMEN', 'RESIDENT_DESC', 'ACTIVE_FLAG', 'SAVING_ACCOUNT', 'DEPOSITO', 'REKSADANA', 'BANCASSURANCE']\n",
    "    df_predict = df_predict[['DORMANT_FLAG'] + continuous_vars + cat_vars]"
   ]
  },
  {
   "cell_type": "code",
   "execution_count": null,
   "metadata": {},
   "outputs": [],
   "source": [
    " # One hot encode the categorical variables\n",
    "    lst = ['INCOME_LEVEL', 'GENDER', 'MARITAL_STATUS', 'SEGMEN']\n",
    "    remove = list()\n",
    "    for i in lst:\n",
    "        if (df_predict[i].dtype == np.str or df_predict[i].dtype == np.object):\n",
    "            for j in df_train[i].unique():\n",
    "                df_predict[i+'_'+j] = np.where(df_predict[i] == j,1,0)\n",
    "            remove.append(i)\n",
    "    df_predict = df_predict.drop(remove, axis=1)                                "
   ]
  },
  {
   "cell_type": "markdown",
   "metadata": {},
   "source": [
    "Model Fitting and Selection"
   ]
  },
  {
   "cell_type": "code",
   "execution_count": 32,
   "metadata": {},
   "outputs": [],
   "source": [
    "##For the model fitting\n",
    "\n",
    "##Logistic regression in the primal space and with different kernels, \n",
    "##SVM in the primal and with different Kernels\n",
    "##Ensemble models"
   ]
  },
  {
   "cell_type": "code",
   "execution_count": 75,
   "metadata": {},
   "outputs": [],
   "source": [
    "# Support functions\n",
    "from sklearn.preprocessing import PolynomialFeatures\n",
    "from sklearn.model_selection import cross_val_score\n",
    "from sklearn.model_selection import GridSearchCV\n",
    "from scipy.stats import uniform\n",
    "\n",
    "# Fit models\n",
    "from sklearn.linear_model import LogisticRegression\n",
    "from sklearn.svm import SVC\n",
    "from sklearn.ensemble import RandomForestClassifier\n",
    "from xgboost import XGBClassifier\n",
    "\n",
    "# Scoring functions\n",
    "from sklearn.metrics import accuracy_score\n",
    "from sklearn.metrics import classification_report\n",
    "from sklearn.metrics import roc_auc_score\n",
    "from sklearn.metrics import roc_curve"
   ]
  },
  {
   "cell_type": "code",
   "execution_count": 76,
   "metadata": {},
   "outputs": [],
   "source": [
    "# Function to give best model score and parameters\n",
    "def best_model(model):\n",
    "    print(model.best_score_)    \n",
    "    print(model.best_params_)\n",
    "    print(model.best_estimator_)\n",
    "def get_auc_scores(y_actual, method,method2):\n",
    "    auc_score = roc_auc_score(y_actual, method); \n",
    "    fpr_df, tpr_df, _ = roc_curve(y_actual, method2); \n",
    "    return (auc_score, fpr_df, tpr_df)"
   ]
  },
  {
   "cell_type": "code",
   "execution_count": null,
   "metadata": {},
   "outputs": [],
   "source": [
    "# Fit primal Grid logistic regression\n",
    "param_grid = {'C': [0.1,0.5,1,10,50,100], 'max_iter': [1000], 'fit_intercept':[True],'intercept_scaling':[1],\n",
    "              'penalty':['l2'], 'tol':[0.00001,0.0001,0.000001]}\n",
    "log_primal_Grid = GridSearchCV(LogisticRegression(solver='lbfgs'),param_grid, cv=10, refit=True, verbose=0)\n",
    "log_primal_Grid.fit(df_train.loc[:, df_train.columns != 'DORMANT_FLAG'],df_train.DORMANT_FLAG)\n",
    "best_model(log_primal_Grid)"
   ]
  },
  {
   "cell_type": "code",
   "execution_count": null,
   "metadata": {},
   "outputs": [],
   "source": [
    "# Fit primal logistic regression\n",
    "log_primal = LogisticRegression(C=100, class_weight=None, dual=False, fit_intercept=True,intercept_scaling=1, max_iter=1000, multi_class='warn',n_jobs=None, \n",
    "                                penalty='l2', random_state=None, solver='lbfgs',tol=1e-05, verbose=0, warm_start=False)\n",
    "log_primal.fit(df_train.loc[:, df_train.columns != 'DORMANT_FLAG'],df_train.DORMANT_FLAG)"
   ]
  },
  {
   "cell_type": "code",
   "execution_count": 77,
   "metadata": {},
   "outputs": [
    {
     "data": {
      "text/plain": [
       "RandomForestClassifier(bootstrap=True, class_weight=None, criterion='gini',\n",
       "            max_depth=8, max_features=6, max_leaf_nodes=None,\n",
       "            min_impurity_decrease=0.0, min_impurity_split=None,\n",
       "            min_samples_leaf=1, min_samples_split=3,\n",
       "            min_weight_fraction_leaf=0.0, n_estimators=50, n_jobs=None,\n",
       "            oob_score=False, random_state=None, verbose=0,\n",
       "            warm_start=False)"
      ]
     },
     "execution_count": 77,
     "metadata": {},
     "output_type": "execute_result"
    }
   ],
   "source": [
    "# Fit Random Forest classifier\n",
    "RF = RandomForestClassifier(bootstrap=True, class_weight=None, criterion='gini',max_depth=8, max_features=6, max_leaf_nodes=None,min_impurity_decrease=0.0,\n",
    "                            min_impurity_split=None,min_samples_leaf=1, min_samples_split=3,min_weight_fraction_leaf=0.0, n_estimators=50, n_jobs=None,\n",
    "                            oob_score=False, random_state=None, verbose=0,warm_start=False)\n",
    "RF.fit(df_train.loc[:, df_train.columns != 'DORMANT_FLAG'],df_train.DORMANT_FLAG)"
   ]
  },
  {
   "cell_type": "code",
   "execution_count": 48,
   "metadata": {},
   "outputs": [
    {
     "data": {
      "text/plain": [
       "XGBClassifier(base_score=0.5, booster='gbtree', colsample_bylevel=1,\n",
       "       colsample_bynode=1, colsample_bytree=1, gamma=0.01,\n",
       "       learning_rate=0.1, max_delta_step=0, max_depth=7,\n",
       "       min_child_weight=5, missing=None, n_estimators=20, n_jobs=1,\n",
       "       nthread=None, objective='binary:logistic', random_state=0,\n",
       "       reg_alpha=0, reg_lambda=1, scale_pos_weight=1, seed=None,\n",
       "       silent=True, subsample=1, verbosity=1)"
      ]
     },
     "execution_count": 48,
     "metadata": {},
     "output_type": "execute_result"
    }
   ],
   "source": [
    "# Fit Extreme Gradient Boost Classifier\n",
    "XGB = XGBClassifier(base_score=0.5, booster='gbtree', colsample_bylevel=1,colsample_bytree=1, gamma=0.01, learning_rate=0.1, max_delta_step=0,max_depth=7,\n",
    "                    min_child_weight=5, missing=None, n_estimators=20,n_jobs=1, nthread=None, objective='binary:logistic', random_state=0,reg_alpha=0, \n",
    "                    reg_lambda=1, scale_pos_weight=1, seed=None, silent=True, subsample=1)\n",
    "XGB.fit(df_train.loc[:, df_train.columns != 'DORMANT_FLAG'],df_train.DORMANT_FLAG)"
   ]
  },
  {
   "cell_type": "markdown",
   "metadata": {},
   "source": [
    "**Review best model fit accuracy : Keen interest is on the performance in predicting 1's (Customers who churn)**"
   ]
  },
  {
   "cell_type": "code",
   "execution_count": null,
   "metadata": {},
   "outputs": [],
   "source": [
    "print(classification_report(df_train.DORMANT_FLAG, log_primal_Grid.predict(df_train.loc[:, df_train.columns != 'DORMANT_FLAG'])))"
   ]
  },
  {
   "cell_type": "code",
   "execution_count": null,
   "metadata": {},
   "outputs": [],
   "source": [
    "print(classification_report(df_train.DORMANT_FLAG, log_primal.predict(df_train.loc[:, df_train.columns != 'DORMANT_FLAG'])))"
   ]
  },
  {
   "cell_type": "code",
   "execution_count": 78,
   "metadata": {},
   "outputs": [
    {
     "name": "stdout",
     "output_type": "stream",
     "text": [
      "              precision    recall  f1-score   support\n",
      "\n",
      "           0       0.84      0.93      0.88    745362\n",
      "           1       0.81      0.62      0.70    358149\n",
      "\n",
      "   micro avg       0.83      0.83      0.83   1103511\n",
      "   macro avg       0.82      0.77      0.79   1103511\n",
      "weighted avg       0.83      0.83      0.82   1103511\n",
      "\n"
     ]
    }
   ],
   "source": [
    "print(classification_report(df_train.DORMANT_FLAG,  RF.predict(df_train.loc[:, df_train.columns != 'DORMANT_FLAG'])))"
   ]
  },
  {
   "cell_type": "code",
   "execution_count": 50,
   "metadata": {},
   "outputs": [
    {
     "name": "stdout",
     "output_type": "stream",
     "text": [
      "              precision    recall  f1-score   support\n",
      "\n",
      "           0       0.85      0.92      0.88    745362\n",
      "           1       0.79      0.66      0.72    358149\n",
      "\n",
      "   micro avg       0.83      0.83      0.83   1103511\n",
      "   macro avg       0.82      0.79      0.80   1103511\n",
      "weighted avg       0.83      0.83      0.83   1103511\n",
      "\n"
     ]
    }
   ],
   "source": [
    "print(classification_report(df_train.DORMANT_FLAG,  XGB.predict(df_train.loc[:, df_train.columns != 'DORMANT_FLAG'])))"
   ]
  },
  {
   "cell_type": "code",
   "execution_count": 82,
   "metadata": {},
   "outputs": [],
   "source": [
    "y = df_train.DORMANT_FLAG\n",
    "X = df_train.loc[:, df_train.columns != 'DORMANT_FLAG']\n",
    "\n",
    "# auc_log_primal_Grid, fpr_log_primal_Grid, tpr_log_primal_Grid = get_auc_scores(y, log_primal_Grid.predict(X),log_primal_Grid.predict_proba(X)[:,1])\n",
    "# auc_log_primal, fpr_log_primal, tpr_log_primal = get_auc_scores(y, log_primal.predict(X),log_primal.predict_proba(X)[:,1])\n",
    "auc_RF, fpr_RF, tpr_RF = get_auc_scores(y, RF.predict(X),RF.predict_proba(X)[:,1])\n",
    "#auc_XGB, fpr_XGB, tpr_XGB = get_auc_scores(y, XGB.predict(X),XGB.predict_proba(X)[:,1])"
   ]
  },
  {
   "cell_type": "code",
   "execution_count": 100,
   "metadata": {},
   "outputs": [
    {
     "data": {
      "text/plain": [
       "[('DORMANT_FLAG', 0.016407478451393943),\n",
       " ('AGE', 0.33911572063989637),\n",
       " ('CUSTOMER_SENIORITY', 0.4989027965564742),\n",
       " ('IDR_AVERAGE_MTD_BALANCE', 0.006896998986166736),\n",
       " ('INCOME_LEVEL', 0.002167088953407414),\n",
       " ('GENDER', 0.014050172424486094),\n",
       " ('MARITAL_STATUS', 0.01126650549913538),\n",
       " ('SEGMEN', 1.5613846875979192e-05),\n",
       " ('RESIDENT_DESC', 8.766591083740498e-06),\n",
       " ('ACTIVE_FLAG', 0.08722353593908765),\n",
       " ('SAVING_ACCOUNT', 0.01892801582601214),\n",
       " ('DEPOSITO', 0.0026865199384849257),\n",
       " ('REKSADANA', 0.002330786347495219)]"
      ]
     },
     "execution_count": 100,
     "metadata": {},
     "output_type": "execute_result"
    }
   ],
   "source": [
    "list(zip(df_train, RF.feature_importances_))"
   ]
  },
  {
   "cell_type": "code",
   "execution_count": 79,
   "metadata": {},
   "outputs": [],
   "source": [
    "import matplotlib.pyplot as plt\n",
    "import matplotlib as mpl\n",
    "import seaborn as sns"
   ]
  },
  {
   "cell_type": "code",
   "execution_count": 83,
   "metadata": {},
   "outputs": [
    {
     "data": {
      "image/png": "[encoded data removed]",
      "text/plain": [
       "<Figure size 864x432 with 1 Axes>"
      ]
     },
     "metadata": {
      "needs_background": "light"
     },
     "output_type": "display_data"
    }
   ],
   "source": [
    "plt.figure(figsize = (12,6), linewidth= 1)\n",
    "plt.plot(fpr_RF, tpr_RF, label = 'RF score: ' + str(round(auc_RF, 5)))\n",
    "#plt.plot(fpr_XGB, tpr_XGB, label = 'XGB score: ' + str(round(auc_XGB, 5)))\n",
    "plt.plot([0,1], [0,1], 'k--', label = 'Random: 0.5')\n",
    "plt.xlabel('False positive rate')\n",
    "plt.ylabel('True positive rate')\n",
    "plt.title('ROC Curve')\n",
    "plt.legend(loc='best')\n",
    "#plt.savefig('roc_results_ratios.png')\n",
    "plt.show()"
   ]
  },
  {
   "cell_type": "code",
   "execution_count": 84,
   "metadata": {},
   "outputs": [],
   "source": [
    "import pickle\n",
    "\n",
    "filename = 'RF_pickle1.pkl'\n",
    "pickle.dump(RF, open(filename, 'wb'))"
   ]
  },
  {
   "cell_type": "code",
   "execution_count": 55,
   "metadata": {},
   "outputs": [],
   "source": [
    "filename = 'XGB_pickle1.pkl'\n",
    "pickle.dump(XGB, open(filename, 'wb'))"
   ]
  },
  {
   "cell_type": "code",
   "execution_count": 85,
   "metadata": {},
   "outputs": [],
   "source": [
    "import pickle\n",
    "\n",
    "column_filename = 'columns.pkl'\n",
    "pickle.dump(model_columns, open(column_filename, 'wb'))"
   ]
  },
  {
   "cell_type": "code",
   "execution_count": 47,
   "metadata": {},
   "outputs": [],
   "source": [
    "RFF = joblib.load(\"XGB_pickle1.pkl\")"
   ]
  },
  {
   "cell_type": "code",
   "execution_count": 48,
   "metadata": {},
   "outputs": [
    {
     "data": {
      "text/plain": [
       "XGBClassifier(base_score=0.5, booster='gbtree', colsample_bylevel=1,\n",
       "       colsample_bynode=1, colsample_bytree=1, gamma=0.01,\n",
       "       learning_rate=0.1, max_delta_step=0, max_depth=7,\n",
       "       min_child_weight=5, missing=nan, n_estimators=20, n_jobs=1,\n",
       "       nthread=None, objective='binary:logistic', random_state=0,\n",
       "       reg_alpha=0, reg_lambda=1, scale_pos_weight=1, seed=None,\n",
       "       silent=True, subsample=1, verbosity=1)"
      ]
     },
     "execution_count": 48,
     "metadata": {},
     "output_type": "execute_result"
    }
   ],
   "source": [
    "RFF"
   ]
  },
  {
   "cell_type": "code",
   "execution_count": null,
   "metadata": {},
   "outputs": [],
   "source": [
    "RFF = joblib.load(\"XGB_pickle1.pkl\")"
   ]
  }
 ],
 "metadata": {
  "kernelspec": {
   "display_name": "Python 3",
   "language": "python",
   "name": "python3"
  },
  "language_info": {
   "codemirror_mode": {
    "name": "ipython",
    "version": 3
   },
   "file_extension": ".py",
   "mimetype": "text/x-python",
   "name": "python",
   "nbconvert_exporter": "python",
   "pygments_lexer": "ipython3",
   "version": "3.7.4"
  }
 },
 "nbformat": 4,
 "nbformat_minor": 2
}
