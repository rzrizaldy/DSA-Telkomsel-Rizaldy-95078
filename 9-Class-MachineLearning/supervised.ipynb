{
 "cells": [
  {
   "cell_type": "code",
   "execution_count": 1,
   "metadata": {},
   "outputs": [],
   "source": [
    "# import library\n",
    "import numpy as np\n",
    "import pandas as pd"
   ]
  },
  {
   "cell_type": "code",
   "execution_count": 2,
   "metadata": {},
   "outputs": [],
   "source": [
    "# load data\n",
    "data = pd.read_csv('dataset_sms_spam _v1.csv')"
   ]
  },
  {
   "cell_type": "code",
   "execution_count": 3,
   "metadata": {},
   "outputs": [
    {
     "data": {
      "text/html": [
       "<div>\n",
       "<style scoped>\n",
       "    .dataframe tbody tr th:only-of-type {\n",
       "        vertical-align: middle;\n",
       "    }\n",
       "\n",
       "    .dataframe tbody tr th {\n",
       "        vertical-align: top;\n",
       "    }\n",
       "\n",
       "    .dataframe thead th {\n",
       "        text-align: right;\n",
       "    }\n",
       "</style>\n",
       "<table border=\"1\" class=\"dataframe\">\n",
       "  <thead>\n",
       "    <tr style=\"text-align: right;\">\n",
       "      <th></th>\n",
       "      <th>Teks</th>\n",
       "      <th>label</th>\n",
       "    </tr>\n",
       "  </thead>\n",
       "  <tbody>\n",
       "    <tr>\n",
       "      <td>0</td>\n",
       "      <td>[PROMO] Beli paket Flash mulai 1GB di MY TELKO...</td>\n",
       "      <td>2</td>\n",
       "    </tr>\n",
       "    <tr>\n",
       "      <td>1</td>\n",
       "      <td>2.5 GB/30 hari hanya Rp 35 Ribu Spesial buat A...</td>\n",
       "      <td>2</td>\n",
       "    </tr>\n",
       "    <tr>\n",
       "      <td>2</td>\n",
       "      <td>2016-07-08 11:47:11.Plg Yth, sisa kuota Flash ...</td>\n",
       "      <td>2</td>\n",
       "    </tr>\n",
       "    <tr>\n",
       "      <td>3</td>\n",
       "      <td>2016-08-07 11:29:47.Plg Yth, sisa kuota Flash ...</td>\n",
       "      <td>2</td>\n",
       "    </tr>\n",
       "    <tr>\n",
       "      <td>4</td>\n",
       "      <td>4.5GB/30 hari hanya Rp 55 Ribu Spesial buat an...</td>\n",
       "      <td>2</td>\n",
       "    </tr>\n",
       "  </tbody>\n",
       "</table>\n",
       "</div>"
      ],
      "text/plain": [
       "                                                Teks  label\n",
       "0  [PROMO] Beli paket Flash mulai 1GB di MY TELKO...      2\n",
       "1  2.5 GB/30 hari hanya Rp 35 Ribu Spesial buat A...      2\n",
       "2  2016-07-08 11:47:11.Plg Yth, sisa kuota Flash ...      2\n",
       "3  2016-08-07 11:29:47.Plg Yth, sisa kuota Flash ...      2\n",
       "4  4.5GB/30 hari hanya Rp 55 Ribu Spesial buat an...      2"
      ]
     },
     "execution_count": 3,
     "metadata": {},
     "output_type": "execute_result"
    }
   ],
   "source": [
    "data.head()"
   ]
  },
  {
   "cell_type": "code",
   "execution_count": 5,
   "metadata": {},
   "outputs": [
    {
     "data": {
      "text/plain": [
       "0    569\n",
       "1    335\n",
       "2    239\n",
       "Name: label, dtype: int64"
      ]
     },
     "execution_count": 5,
     "metadata": {},
     "output_type": "execute_result"
    }
   ],
   "source": [
    "data.label.value_counts()"
   ]
  },
  {
   "cell_type": "code",
   "execution_count": 6,
   "metadata": {},
   "outputs": [],
   "source": [
    "# mengubah data teks -> matriks\n",
    "from sklearn.feature_extraction.text import CountVectorizer\n",
    "\n",
    "vect = CountVectorizer()\n",
    "\n",
    "vect.fit(data.Teks)\n",
    "\n",
    "X = vect.transform(data.Teks)"
   ]
  },
  {
   "cell_type": "code",
   "execution_count": 9,
   "metadata": {},
   "outputs": [],
   "source": [
    "# split train test\n",
    "from sklearn.model_selection import train_test_split\n",
    "X_train, X_test, y_train, y_test = train_test_split(X, data.label)"
   ]
  },
  {
   "cell_type": "code",
   "execution_count": 21,
   "metadata": {},
   "outputs": [
    {
     "data": {
      "text/plain": [
       "LinearSVC(C=1.0, class_weight=None, dual=True, fit_intercept=True,\n",
       "          intercept_scaling=1, loss='squared_hinge', max_iter=1000,\n",
       "          multi_class='ovr', penalty='l2', random_state=None, tol=0.0001,\n",
       "          verbose=0)"
      ]
     },
     "execution_count": 21,
     "metadata": {},
     "output_type": "execute_result"
    }
   ],
   "source": [
    "# train machine learning model\n",
    "from sklearn.naive_bayes import MultinomialNB\n",
    "from sklearn.svm import LinearSVC\n",
    "\n",
    "model = MultinomialNB(alpha=0.8)\n",
    "\n",
    "model.fit(X_train, y_train)\n",
    "\n",
    "model2 = LinearSVC()\n",
    "\n",
    "model2.fit(X_train, y_train)"
   ]
  },
  {
   "cell_type": "code",
   "execution_count": 22,
   "metadata": {},
   "outputs": [],
   "source": [
    "# lakukan prediksi\n",
    "y_pred = model.predict(X_test)\n",
    "y_pred2 = model2.predict(X_test)"
   ]
  },
  {
   "cell_type": "code",
   "execution_count": 23,
   "metadata": {},
   "outputs": [
    {
     "name": "stdout",
     "output_type": "stream",
     "text": [
      "NAIVE BAYES\n",
      "confusion matrix : \n",
      "[[122   2   0]\n",
      " [  1  84   2]\n",
      " [  4   8  63]]\n",
      "Accuracy Score : \n",
      "0.9405594405594405\n",
      "classification report : \n",
      "              precision    recall  f1-score   support\n",
      "\n",
      "           0       0.96      0.98      0.97       124\n",
      "           1       0.89      0.97      0.93        87\n",
      "           2       0.97      0.84      0.90        75\n",
      "\n",
      "    accuracy                           0.94       286\n",
      "   macro avg       0.94      0.93      0.93       286\n",
      "weighted avg       0.94      0.94      0.94       286\n",
      "\n",
      "\n",
      "Linear SVM\n",
      "confusion matrix : \n",
      "[[126   1   1]\n",
      " [  1  89   3]\n",
      " [  0   4  61]]\n",
      "Accuracy Score : \n",
      "0.965034965034965\n",
      "classification report : \n",
      "              precision    recall  f1-score   support\n",
      "\n",
      "           0       0.99      0.98      0.99       128\n",
      "           1       0.95      0.96      0.95        93\n",
      "           2       0.94      0.94      0.94        65\n",
      "\n",
      "    accuracy                           0.97       286\n",
      "   macro avg       0.96      0.96      0.96       286\n",
      "weighted avg       0.97      0.97      0.97       286\n",
      "\n"
     ]
    }
   ],
   "source": [
    "# evaluasi model\n",
    "from sklearn.metrics import confusion_matrix, accuracy_score\n",
    "from sklearn.metrics import classification_report\n",
    "print(\"NAIVE BAYES\")\n",
    "print(\"confusion matrix : \")\n",
    "print(confusion_matrix(y_pred, y_test))\n",
    "print(\"Accuracy Score : \")\n",
    "print(accuracy_score(y_pred, y_test))\n",
    "print(\"classification report : \")\n",
    "print(classification_report(y_pred,y_test))\n",
    "print()\n",
    "print(\"Linear SVM\")\n",
    "print(\"confusion matrix : \")\n",
    "print(confusion_matrix(y_pred2, y_test))\n",
    "print(\"Accuracy Score : \")\n",
    "print(accuracy_score(y_pred2, y_test))\n",
    "print(\"classification report : \")\n",
    "print(classification_report(y_pred2,y_test))"
   ]
  },
  {
   "cell_type": "code",
   "execution_count": 17,
   "metadata": {},
   "outputs": [
    {
     "name": "stdout",
     "output_type": "stream",
     "text": [
      "[0 1 2]\n"
     ]
    }
   ],
   "source": [
    "# masukkan data baru \n",
    "sms_baru = [\"halo, apa kabar ? \",\n",
    "            \"pinjaman tanpa jaminan hanya disini\",\n",
    "            \"promo paket flash 1 GB hanya Rp. 10000\"\n",
    "            ]\n",
    "\n",
    "# langkah 1 : ubah dari teks -> matriks\n",
    "sms_baru_vec = vect.transform(sms_baru)\n",
    "\n",
    "# langkah 2 : masukkan kedalam model machine learning\n",
    "hasil = model.predict(sms_baru_vec)\n",
    "\n",
    "print(hasil)"
   ]
  },
  {
   "cell_type": "code",
   "execution_count": null,
   "metadata": {},
   "outputs": [],
   "source": []
  }
 ],
 "metadata": {
  "kernelspec": {
   "display_name": "Python 3",
   "language": "python",
   "name": "python3"
  },
  "language_info": {
   "codemirror_mode": {
    "name": "ipython",
    "version": 3
   },
   "file_extension": ".py",
   "mimetype": "text/x-python",
   "name": "python",
   "nbconvert_exporter": "python",
   "pygments_lexer": "ipython3",
   "version": "3.7.4"
  }
 },
 "nbformat": 4,
 "nbformat_minor": 2
}
