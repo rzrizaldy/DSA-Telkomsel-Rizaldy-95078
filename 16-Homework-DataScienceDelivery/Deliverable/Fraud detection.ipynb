{
 "cells": [
  {
   "cell_type": "code",
   "execution_count": 0,
   "metadata": {
    "colab": {},
    "colab_type": "code",
    "id": "YfrblkAZZpVN"
   },
   "outputs": [],
   "source": [
    "import pandas as pd\n",
    "import json\n",
    "import numpy as np\n",
    "import seaborn as sns\n",
    "import matplotlib.pyplot as plt"
   ]
  },
  {
   "cell_type": "code",
   "execution_count": 0,
   "metadata": {
    "colab": {},
    "colab_type": "code",
    "id": "eKlhv-eUZpVS"
   },
   "outputs": [],
   "source": [
    "# transaction = pd.read_json('transactions.txt',lines=True)"
   ]
  },
  {
   "cell_type": "code",
   "execution_count": 0,
   "metadata": {
    "colab": {},
    "colab_type": "code",
    "id": "-IxfJOHbZpVV"
   },
   "outputs": [],
   "source": [
    "# transaction.to_csv('transaction.csv',sep='|',index=False)"
   ]
  },
  {
   "cell_type": "code",
   "execution_count": 8,
   "metadata": {
    "colab": {
     "base_uri": "https://localhost:8080/",
     "height": 404
    },
    "colab_type": "code",
    "executionInfo": {
     "elapsed": 490,
     "status": "error",
     "timestamp": 1579179045099,
     "user": {
      "displayName": "Wahyu S R",
      "photoUrl": "https://lh3.googleusercontent.com/a-/AAuE7mBJtpnXro8uOAn7JMAs6SqbPvzT-m1v86x5F3ew3Q=s64",
      "userId": "09655335825248941218"
     },
     "user_tz": -420
    },
    "id": "7zMyV21VZpVX",
    "outputId": "6483fad9-38ce-45ae-8551-842a2cd7bb98",
    "scrolled": true
   },
   "outputs": [
    {
     "ename": "FileNotFoundError",
     "evalue": "ignored",
     "output_type": "error",
     "traceback": [
      "\u001b[0;31m---------------------------------------------------------------------------\u001b[0m",
      "\u001b[0;31mFileNotFoundError\u001b[0m                         Traceback (most recent call last)",
      "\u001b[0;32m<ipython-input-8-098b5d7d5f42>\u001b[0m in \u001b[0;36m<module>\u001b[0;34m()\u001b[0m\n\u001b[1;32m     13\u001b[0m \u001b[0;31m# transaction = pandas.read_csv(filename,sep='|', skiprows=skip)\u001b[0m\u001b[0;34m\u001b[0m\u001b[0;34m\u001b[0m\u001b[0;34m\u001b[0m\u001b[0m\n\u001b[1;32m     14\u001b[0m \u001b[0;34m\u001b[0m\u001b[0m\n\u001b[0;32m---> 15\u001b[0;31m \u001b[0mtransaction\u001b[0m \u001b[0;34m=\u001b[0m \u001b[0mpd\u001b[0m\u001b[0;34m.\u001b[0m\u001b[0mread_csv\u001b[0m\u001b[0;34m(\u001b[0m\u001b[0;34m'transaction.csv'\u001b[0m\u001b[0;34m,\u001b[0m\u001b[0msep\u001b[0m\u001b[0;34m=\u001b[0m\u001b[0;34m'|'\u001b[0m\u001b[0;34m)\u001b[0m\u001b[0;34m\u001b[0m\u001b[0;34m\u001b[0m\u001b[0m\n\u001b[0m",
      "\u001b[0;32m/usr/local/lib/python3.6/dist-packages/pandas/io/parsers.py\u001b[0m in \u001b[0;36mparser_f\u001b[0;34m(filepath_or_buffer, sep, delimiter, header, names, index_col, usecols, squeeze, prefix, mangle_dupe_cols, dtype, engine, converters, true_values, false_values, skipinitialspace, skiprows, skipfooter, nrows, na_values, keep_default_na, na_filter, verbose, skip_blank_lines, parse_dates, infer_datetime_format, keep_date_col, date_parser, dayfirst, cache_dates, iterator, chunksize, compression, thousands, decimal, lineterminator, quotechar, quoting, doublequote, escapechar, comment, encoding, dialect, error_bad_lines, warn_bad_lines, delim_whitespace, low_memory, memory_map, float_precision)\u001b[0m\n\u001b[1;32m    683\u001b[0m         )\n\u001b[1;32m    684\u001b[0m \u001b[0;34m\u001b[0m\u001b[0m\n\u001b[0;32m--> 685\u001b[0;31m         \u001b[0;32mreturn\u001b[0m \u001b[0m_read\u001b[0m\u001b[0;34m(\u001b[0m\u001b[0mfilepath_or_buffer\u001b[0m\u001b[0;34m,\u001b[0m \u001b[0mkwds\u001b[0m\u001b[0;34m)\u001b[0m\u001b[0;34m\u001b[0m\u001b[0;34m\u001b[0m\u001b[0m\n\u001b[0m\u001b[1;32m    686\u001b[0m \u001b[0;34m\u001b[0m\u001b[0m\n\u001b[1;32m    687\u001b[0m     \u001b[0mparser_f\u001b[0m\u001b[0;34m.\u001b[0m\u001b[0m__name__\u001b[0m \u001b[0;34m=\u001b[0m \u001b[0mname\u001b[0m\u001b[0;34m\u001b[0m\u001b[0;34m\u001b[0m\u001b[0m\n",
      "\u001b[0;32m/usr/local/lib/python3.6/dist-packages/pandas/io/parsers.py\u001b[0m in \u001b[0;36m_read\u001b[0;34m(filepath_or_buffer, kwds)\u001b[0m\n\u001b[1;32m    455\u001b[0m \u001b[0;34m\u001b[0m\u001b[0m\n\u001b[1;32m    456\u001b[0m     \u001b[0;31m# Create the parser.\u001b[0m\u001b[0;34m\u001b[0m\u001b[0;34m\u001b[0m\u001b[0;34m\u001b[0m\u001b[0m\n\u001b[0;32m--> 457\u001b[0;31m     \u001b[0mparser\u001b[0m \u001b[0;34m=\u001b[0m \u001b[0mTextFileReader\u001b[0m\u001b[0;34m(\u001b[0m\u001b[0mfp_or_buf\u001b[0m\u001b[0;34m,\u001b[0m \u001b[0;34m**\u001b[0m\u001b[0mkwds\u001b[0m\u001b[0;34m)\u001b[0m\u001b[0;34m\u001b[0m\u001b[0;34m\u001b[0m\u001b[0m\n\u001b[0m\u001b[1;32m    458\u001b[0m \u001b[0;34m\u001b[0m\u001b[0m\n\u001b[1;32m    459\u001b[0m     \u001b[0;32mif\u001b[0m \u001b[0mchunksize\u001b[0m \u001b[0;32mor\u001b[0m \u001b[0miterator\u001b[0m\u001b[0;34m:\u001b[0m\u001b[0;34m\u001b[0m\u001b[0;34m\u001b[0m\u001b[0m\n",
      "\u001b[0;32m/usr/local/lib/python3.6/dist-packages/pandas/io/parsers.py\u001b[0m in \u001b[0;36m__init__\u001b[0;34m(self, f, engine, **kwds)\u001b[0m\n\u001b[1;32m    893\u001b[0m             \u001b[0mself\u001b[0m\u001b[0;34m.\u001b[0m\u001b[0moptions\u001b[0m\u001b[0;34m[\u001b[0m\u001b[0;34m\"has_index_names\"\u001b[0m\u001b[0;34m]\u001b[0m \u001b[0;34m=\u001b[0m \u001b[0mkwds\u001b[0m\u001b[0;34m[\u001b[0m\u001b[0;34m\"has_index_names\"\u001b[0m\u001b[0;34m]\u001b[0m\u001b[0;34m\u001b[0m\u001b[0;34m\u001b[0m\u001b[0m\n\u001b[1;32m    894\u001b[0m \u001b[0;34m\u001b[0m\u001b[0m\n\u001b[0;32m--> 895\u001b[0;31m         \u001b[0mself\u001b[0m\u001b[0;34m.\u001b[0m\u001b[0m_make_engine\u001b[0m\u001b[0;34m(\u001b[0m\u001b[0mself\u001b[0m\u001b[0;34m.\u001b[0m\u001b[0mengine\u001b[0m\u001b[0;34m)\u001b[0m\u001b[0;34m\u001b[0m\u001b[0;34m\u001b[0m\u001b[0m\n\u001b[0m\u001b[1;32m    896\u001b[0m \u001b[0;34m\u001b[0m\u001b[0m\n\u001b[1;32m    897\u001b[0m     \u001b[0;32mdef\u001b[0m \u001b[0mclose\u001b[0m\u001b[0;34m(\u001b[0m\u001b[0mself\u001b[0m\u001b[0;34m)\u001b[0m\u001b[0;34m:\u001b[0m\u001b[0;34m\u001b[0m\u001b[0;34m\u001b[0m\u001b[0m\n",
      "\u001b[0;32m/usr/local/lib/python3.6/dist-packages/pandas/io/parsers.py\u001b[0m in \u001b[0;36m_make_engine\u001b[0;34m(self, engine)\u001b[0m\n\u001b[1;32m   1133\u001b[0m     \u001b[0;32mdef\u001b[0m \u001b[0m_make_engine\u001b[0m\u001b[0;34m(\u001b[0m\u001b[0mself\u001b[0m\u001b[0;34m,\u001b[0m \u001b[0mengine\u001b[0m\u001b[0;34m=\u001b[0m\u001b[0;34m\"c\"\u001b[0m\u001b[0;34m)\u001b[0m\u001b[0;34m:\u001b[0m\u001b[0;34m\u001b[0m\u001b[0;34m\u001b[0m\u001b[0m\n\u001b[1;32m   1134\u001b[0m         \u001b[0;32mif\u001b[0m \u001b[0mengine\u001b[0m \u001b[0;34m==\u001b[0m \u001b[0;34m\"c\"\u001b[0m\u001b[0;34m:\u001b[0m\u001b[0;34m\u001b[0m\u001b[0;34m\u001b[0m\u001b[0m\n\u001b[0;32m-> 1135\u001b[0;31m             \u001b[0mself\u001b[0m\u001b[0;34m.\u001b[0m\u001b[0m_engine\u001b[0m \u001b[0;34m=\u001b[0m \u001b[0mCParserWrapper\u001b[0m\u001b[0;34m(\u001b[0m\u001b[0mself\u001b[0m\u001b[0;34m.\u001b[0m\u001b[0mf\u001b[0m\u001b[0;34m,\u001b[0m \u001b[0;34m**\u001b[0m\u001b[0mself\u001b[0m\u001b[0;34m.\u001b[0m\u001b[0moptions\u001b[0m\u001b[0;34m)\u001b[0m\u001b[0;34m\u001b[0m\u001b[0;34m\u001b[0m\u001b[0m\n\u001b[0m\u001b[1;32m   1136\u001b[0m         \u001b[0;32melse\u001b[0m\u001b[0;34m:\u001b[0m\u001b[0;34m\u001b[0m\u001b[0;34m\u001b[0m\u001b[0m\n\u001b[1;32m   1137\u001b[0m             \u001b[0;32mif\u001b[0m \u001b[0mengine\u001b[0m \u001b[0;34m==\u001b[0m \u001b[0;34m\"python\"\u001b[0m\u001b[0;34m:\u001b[0m\u001b[0;34m\u001b[0m\u001b[0;34m\u001b[0m\u001b[0m\n",
      "\u001b[0;32m/usr/local/lib/python3.6/dist-packages/pandas/io/parsers.py\u001b[0m in \u001b[0;36m__init__\u001b[0;34m(self, src, **kwds)\u001b[0m\n\u001b[1;32m   1915\u001b[0m         \u001b[0mkwds\u001b[0m\u001b[0;34m[\u001b[0m\u001b[0;34m\"usecols\"\u001b[0m\u001b[0;34m]\u001b[0m \u001b[0;34m=\u001b[0m \u001b[0mself\u001b[0m\u001b[0;34m.\u001b[0m\u001b[0musecols\u001b[0m\u001b[0;34m\u001b[0m\u001b[0;34m\u001b[0m\u001b[0m\n\u001b[1;32m   1916\u001b[0m \u001b[0;34m\u001b[0m\u001b[0m\n\u001b[0;32m-> 1917\u001b[0;31m         \u001b[0mself\u001b[0m\u001b[0;34m.\u001b[0m\u001b[0m_reader\u001b[0m \u001b[0;34m=\u001b[0m \u001b[0mparsers\u001b[0m\u001b[0;34m.\u001b[0m\u001b[0mTextReader\u001b[0m\u001b[0;34m(\u001b[0m\u001b[0msrc\u001b[0m\u001b[0;34m,\u001b[0m \u001b[0;34m**\u001b[0m\u001b[0mkwds\u001b[0m\u001b[0;34m)\u001b[0m\u001b[0;34m\u001b[0m\u001b[0;34m\u001b[0m\u001b[0m\n\u001b[0m\u001b[1;32m   1918\u001b[0m         \u001b[0mself\u001b[0m\u001b[0;34m.\u001b[0m\u001b[0munnamed_cols\u001b[0m \u001b[0;34m=\u001b[0m \u001b[0mself\u001b[0m\u001b[0;34m.\u001b[0m\u001b[0m_reader\u001b[0m\u001b[0;34m.\u001b[0m\u001b[0munnamed_cols\u001b[0m\u001b[0;34m\u001b[0m\u001b[0;34m\u001b[0m\u001b[0m\n\u001b[1;32m   1919\u001b[0m \u001b[0;34m\u001b[0m\u001b[0m\n",
      "\u001b[0;32mpandas/_libs/parsers.pyx\u001b[0m in \u001b[0;36mpandas._libs.parsers.TextReader.__cinit__\u001b[0;34m()\u001b[0m\n",
      "\u001b[0;32mpandas/_libs/parsers.pyx\u001b[0m in \u001b[0;36mpandas._libs.parsers.TextReader._setup_parser_source\u001b[0;34m()\u001b[0m\n",
      "\u001b[0;31mFileNotFoundError\u001b[0m: [Errno 2] File b'transaction.csv' does not exist: b'transaction.csv'"
     ]
    }
   ],
   "source": [
    "import pandas as pd\n",
    "import json\n",
    "import numpy as np\n",
    "from sklearn import metrics\n",
    "\n",
    "import pandas\n",
    "import random\n",
    "\n",
    "# filename = 'transaction.csv'\n",
    "# n = sum(1 for line in open(filename)) - 1 #number of records in file (excludes header)\n",
    "# s = 10000 #desired sample size\n",
    "# skip = sorted(random.sample(range(1,n+1),n-s)) #the 0-indexed header will not be included in the skip list\n",
    "# transaction = pandas.read_csv(filename,sep='|', skiprows=skip)\n",
    "\n",
    "transaction = pd.read_csv('transaction.csv',sep='|')"
   ]
  },
  {
   "cell_type": "code",
   "execution_count": 9,
   "metadata": {
    "colab": {
     "base_uri": "https://localhost:8080/",
     "height": 162
    },
    "colab_type": "code",
    "executionInfo": {
     "elapsed": 603,
     "status": "error",
     "timestamp": 1579179053320,
     "user": {
      "displayName": "Wahyu S R",
      "photoUrl": "https://lh3.googleusercontent.com/a-/AAuE7mBJtpnXro8uOAn7JMAs6SqbPvzT-m1v86x5F3ew3Q=s64",
      "userId": "09655335825248941218"
     },
     "user_tz": -420
    },
    "id": "dt0ESaUIZpVa",
    "outputId": "98e61267-785e-4594-e0b9-299ab1cfdd2c"
   },
   "outputs": [
    {
     "ename": "NameError",
     "evalue": "ignored",
     "output_type": "error",
     "traceback": [
      "\u001b[0;31m---------------------------------------------------------------------------\u001b[0m",
      "\u001b[0;31mNameError\u001b[0m                                 Traceback (most recent call last)",
      "\u001b[0;32m<ipython-input-9-c0b445c45d30>\u001b[0m in \u001b[0;36m<module>\u001b[0;34m()\u001b[0m\n\u001b[0;32m----> 1\u001b[0;31m \u001b[0mtransaction\u001b[0m\u001b[0;34m.\u001b[0m\u001b[0mdtypes\u001b[0m\u001b[0;34m\u001b[0m\u001b[0;34m\u001b[0m\u001b[0m\n\u001b[0m",
      "\u001b[0;31mNameError\u001b[0m: name 'transaction' is not defined"
     ]
    }
   ],
   "source": [
    "transaction.dtypes"
   ]
  },
  {
   "cell_type": "code",
   "execution_count": 0,
   "metadata": {
    "colab": {},
    "colab_type": "code",
    "id": "01iVpDBNZpVd"
   },
   "outputs": [],
   "source": [
    "transaction.describe()"
   ]
  },
  {
   "cell_type": "code",
   "execution_count": 0,
   "metadata": {
    "colab": {},
    "colab_type": "code",
    "id": "uT-crUHsZpVg"
   },
   "outputs": [],
   "source": [
    "transaction.isnull().sum()"
   ]
  },
  {
   "cell_type": "code",
   "execution_count": 0,
   "metadata": {
    "colab": {},
    "colab_type": "code",
    "id": "JG6fAeVFZpVj"
   },
   "outputs": [],
   "source": [
    "len(transaction[transaction['isFraud'] == 1])"
   ]
  },
  {
   "cell_type": "code",
   "execution_count": 0,
   "metadata": {
    "colab": {},
    "colab_type": "code",
    "id": "ldJfNM3_ZpVl",
    "scrolled": true
   },
   "outputs": [],
   "source": [
    "transaction = transaction.sample(frac=1)\n",
    "\n",
    "# amount of fraud classes 492 rows.\n",
    "fraud_df = transaction.loc[transaction['isFraud'] == 1]\n",
    "non_fraud_df = transaction.loc[transaction['isFraud'] == 0][:len(fraud_df)]\n",
    "\n",
    "normal_distributed_df = pd.concat([fraud_df, non_fraud_df])\n",
    "\n",
    "# Shuffle dataframe rows\n",
    "transaction = normal_distributed_df.sample(frac=1, random_state=42)\n",
    "\n",
    "transaction.head()"
   ]
  },
  {
   "cell_type": "code",
   "execution_count": 0,
   "metadata": {
    "colab": {},
    "colab_type": "code",
    "id": "Phm_oMEEZpVo"
   },
   "outputs": [],
   "source": [
    "print('Distribution of the Classes in the subsample dataset')\n",
    "print(transaction['isFraud'].value_counts()/len(transaction))\n",
    "\n",
    "sns.countplot('isFraud', data=transaction)\n",
    "plt.title('Equally Distributed Classes', fontsize=14)\n",
    "plt.show()"
   ]
  },
  {
   "cell_type": "code",
   "execution_count": 0,
   "metadata": {
    "colab": {},
    "colab_type": "code",
    "id": "yOZ4_LamZpVr"
   },
   "outputs": [],
   "source": [
    "transaction.columns"
   ]
  },
  {
   "cell_type": "code",
   "execution_count": 0,
   "metadata": {
    "colab": {},
    "colab_type": "code",
    "id": "N0TTlcfMZpVt"
   },
   "outputs": [],
   "source": [
    "binary_col = ['isFraud','cardPresent','expirationDateKeyInMatch']\n",
    "for col in binary_col:\n",
    "    transaction[col] = transaction[col].apply(lambda x: 1 if x == True else 0)"
   ]
  },
  {
   "cell_type": "code",
   "execution_count": 0,
   "metadata": {
    "colab": {},
    "colab_type": "code",
    "id": "DZxvTkEjZpVv"
   },
   "outputs": [],
   "source": [
    "column_dropped = ['customerId','accountNumber','echoBuffer',\n",
    "                  'accountNumber','merchantCity','merchantState','posOnPremises','recurringAuthInd']\n",
    "# char_column = ['acqCountry','posConditionCode','posEntryMode','transactionType',\n",
    "#                'merchantZip','merchantName','merchantCategoryCode','merchantCountryCode']\n",
    "char_column = ['acqCountry','posConditionCode','posEntryMode','transactionType',\n",
    "               'merchantZip','merchantCategoryCode','merchantCountryCode']\n",
    "imputed_column = ['acqCountry','merchantCountryCode','posConditionCode','posEntryMode','transactionType']\n",
    "transaction = transaction.drop(columns=column_dropped)\n",
    "transaction[char_column] = transaction[char_column].astype(str)"
   ]
  },
  {
   "cell_type": "code",
   "execution_count": 0,
   "metadata": {
    "colab": {},
    "colab_type": "code",
    "id": "H0yLzDxgZpVy"
   },
   "outputs": [],
   "source": [
    "char_column = ['acqCountry','posConditionCode','posEntryMode','transactionType',\n",
    "               'merchantZip','merchantName','merchantCategoryCode','merchantCountryCode']\n",
    "for i in char_column:\n",
    "    print('{} : {}'.format(i,transaction[i].nunique()))"
   ]
  },
  {
   "cell_type": "code",
   "execution_count": 0,
   "metadata": {
    "colab": {},
    "colab_type": "code",
    "id": "y02s9GvRZpV2"
   },
   "outputs": [],
   "source": [
    "from sklearn.impute import SimpleImputer\n",
    "\n",
    "imp_mode = SimpleImputer(missing_values=np.nan, strategy='most_frequent')\n",
    "imp_mode.fit(transaction[imputed_column])\n",
    "transaction[imputed_column] = imp_mode.transform(transaction[imputed_column])"
   ]
  },
  {
   "cell_type": "code",
   "execution_count": 0,
   "metadata": {
    "colab": {},
    "colab_type": "code",
    "id": "KUJRLfmeZpV5"
   },
   "outputs": [],
   "source": [
    "transaction.isnull().sum()"
   ]
  },
  {
   "cell_type": "code",
   "execution_count": 5,
   "metadata": {
    "colab": {
     "base_uri": "https://localhost:8080/",
     "height": 162
    },
    "colab_type": "code",
    "executionInfo": {
     "elapsed": 3128,
     "status": "error",
     "timestamp": 1579178993607,
     "user": {
      "displayName": "Wahyu S R",
      "photoUrl": "https://lh3.googleusercontent.com/a-/AAuE7mBJtpnXro8uOAn7JMAs6SqbPvzT-m1v86x5F3ew3Q=s64",
      "userId": "09655335825248941218"
     },
     "user_tz": -420
    },
    "id": "AZHMmpC_ZpV8",
    "outputId": "f4a47c4e-4c2a-4feb-a393-bfd02358e554",
    "scrolled": true
   },
   "outputs": [
    {
     "ename": "NameError",
     "evalue": "ignored",
     "output_type": "error",
     "traceback": [
      "\u001b[0;31m---------------------------------------------------------------------------\u001b[0m",
      "\u001b[0;31mNameError\u001b[0m                                 Traceback (most recent call last)",
      "\u001b[0;32m<ipython-input-5-459c964683e0>\u001b[0m in \u001b[0;36m<module>\u001b[0;34m()\u001b[0m\n\u001b[0;32m----> 1\u001b[0;31m \u001b[0mtransaction\u001b[0m\u001b[0;34m[\u001b[0m\u001b[0;34m'acqCountry'\u001b[0m\u001b[0;34m]\u001b[0m\u001b[0;34m.\u001b[0m\u001b[0mvalue_counts\u001b[0m\u001b[0;34m(\u001b[0m\u001b[0;34m)\u001b[0m\u001b[0;34m\u001b[0m\u001b[0;34m\u001b[0m\u001b[0m\n\u001b[0m",
      "\u001b[0;31mNameError\u001b[0m: name 'transaction' is not defined"
     ]
    }
   ],
   "source": [
    "transaction['acqCountry'].value_counts()"
   ]
  },
  {
   "cell_type": "code",
   "execution_count": 0,
   "metadata": {
    "colab": {},
    "colab_type": "code",
    "id": "cAwdxuieZpV_"
   },
   "outputs": [],
   "source": [
    "#Change account open date to days since register\n",
    "transaction['daysSinceRegister'] = transaction['accountOpenDate'].\\\n",
    "apply(lambda x: pd.to_datetime('today') - pd.to_datetime(x)).apply(lambda x: x.days)\n",
    "\n",
    "##Change account open date to days since register\n",
    "transaction['daysToExpiration'] = transaction['currentExpDate'].\\\n",
    "apply(lambda x: pd.to_datetime('today') - pd.to_datetime(x)).apply(lambda x: x.days)\n",
    "\n",
    "##Change account open date to days since register\n",
    "transaction['daySinceLastAddressChange'] = transaction['dateOfLastAddressChange'].\\\n",
    "apply(lambda x: pd.to_datetime('today') - pd.to_datetime(x)).apply(lambda x: x.days)"
   ]
  },
  {
   "cell_type": "code",
   "execution_count": 0,
   "metadata": {
    "colab": {},
    "colab_type": "code",
    "id": "MEg38W7_ZpWC"
   },
   "outputs": [],
   "source": [
    "transaction = transaction.drop(columns=['accountOpenDate'])\n",
    "transaction = transaction.drop(columns=['currentExpDate'])\n",
    "transaction = transaction.drop(columns=['dateOfLastAddressChange'])"
   ]
  },
  {
   "cell_type": "code",
   "execution_count": 0,
   "metadata": {
    "colab": {},
    "colab_type": "code",
    "id": "9NmbEcIOZpWF"
   },
   "outputs": [],
   "source": [
    "transaction['trx_hour'] = transaction['transactionDateTime'].apply(lambda x: pd.to_datetime(x).hour)\n",
    "transaction['trx_day_of_week'] = transaction['transactionDateTime'].apply(lambda x: pd.to_datetime(x).dayofweek)\n",
    "transaction['trx_day'] = transaction['transactionDateTime'].apply(lambda x: pd.to_datetime(x).day)\n",
    "transaction['trx_month'] = transaction['transactionDateTime'].apply(lambda x: pd.to_datetime(x).month)"
   ]
  },
  {
   "cell_type": "code",
   "execution_count": 0,
   "metadata": {
    "colab": {},
    "colab_type": "code",
    "id": "xOuSk2aXZpWJ"
   },
   "outputs": [],
   "source": [
    "transaction = transaction.drop(columns=['transactionDateTime'])"
   ]
  },
  {
   "cell_type": "code",
   "execution_count": 0,
   "metadata": {
    "colab": {},
    "colab_type": "code",
    "id": "WDdtOplGZpWM",
    "scrolled": false
   },
   "outputs": [],
   "source": [
    "from sklearn.preprocessing import OneHotEncoder\n",
    "\n",
    "encoder = OneHotEncoder(categories='auto').fit(transaction[char_column])\n",
    "transformed_data = encoder.transform(transaction[char_column]).toarray()\n",
    "transformed_data = pd.DataFrame(transformed_data,columns=encoder.get_feature_names(char_column))\n",
    "transaction = transaction.reset_index()\n",
    "transaction = pd.concat([transaction, transformed_data], axis=1)\n",
    "transaction = transaction.drop(columns=char_column)"
   ]
  },
  {
   "cell_type": "code",
   "execution_count": 0,
   "metadata": {
    "colab": {},
    "colab_type": "code",
    "id": "tDglJYB0ZpWP"
   },
   "outputs": [],
   "source": [
    "y = transaction['isFraud']\n",
    "transaction = transaction.drop(columns=['isFraud'])"
   ]
  },
  {
   "cell_type": "code",
   "execution_count": 0,
   "metadata": {
    "colab": {},
    "colab_type": "code",
    "id": "cQoOyZWiZpWR"
   },
   "outputs": [],
   "source": [
    "transaction "
   ]
  },
  {
   "cell_type": "code",
   "execution_count": 0,
   "metadata": {
    "colab": {},
    "colab_type": "code",
    "id": "jKr7A0FSZpWT"
   },
   "outputs": [],
   "source": [
    "from sklearn.model_selection import train_test_split\n",
    "\n",
    "X_train, X_test, y_train, y_test = train_test_split(transaction, y, test_size=0.2, random_state=42)"
   ]
  },
  {
   "cell_type": "code",
   "execution_count": 0,
   "metadata": {
    "colab": {},
    "colab_type": "code",
    "id": "HINPAbzwZpWV",
    "outputId": "c9f007a5-58b7-4a1c-d928-8c4b980b2aac",
    "scrolled": true
   },
   "outputs": [
    {
     "data": {
      "text/html": [
       "<div>\n",
       "<style scoped>\n",
       "    .dataframe tbody tr th:only-of-type {\n",
       "        vertical-align: middle;\n",
       "    }\n",
       "\n",
       "    .dataframe tbody tr th {\n",
       "        vertical-align: top;\n",
       "    }\n",
       "\n",
       "    .dataframe thead th {\n",
       "        text-align: right;\n",
       "    }\n",
       "</style>\n",
       "<table border=\"1\" class=\"dataframe\">\n",
       "  <thead>\n",
       "    <tr style=\"text-align: right;\">\n",
       "      <th></th>\n",
       "      <th>index</th>\n",
       "      <th>availableMoney</th>\n",
       "      <th>cardCVV</th>\n",
       "      <th>cardLast4Digits</th>\n",
       "      <th>cardPresent</th>\n",
       "      <th>creditLimit</th>\n",
       "      <th>currentBalance</th>\n",
       "      <th>enteredCVV</th>\n",
       "      <th>expirationDateKeyInMatch</th>\n",
       "      <th>transactionAmount</th>\n",
       "      <th>...</th>\n",
       "      <th>merchantCategoryCode_online_retail</th>\n",
       "      <th>merchantCategoryCode_online_subscriptions</th>\n",
       "      <th>merchantCategoryCode_personal care</th>\n",
       "      <th>merchantCategoryCode_rideshare</th>\n",
       "      <th>merchantCategoryCode_subscriptions</th>\n",
       "      <th>merchantCountryCode_CAN</th>\n",
       "      <th>merchantCountryCode_MEX</th>\n",
       "      <th>merchantCountryCode_PR</th>\n",
       "      <th>merchantCountryCode_US</th>\n",
       "      <th>merchantCountryCode_nan</th>\n",
       "    </tr>\n",
       "  </thead>\n",
       "  <tbody>\n",
       "    <tr>\n",
       "      <th>0</th>\n",
       "      <td>14939</td>\n",
       "      <td>2211.47</td>\n",
       "      <td>213</td>\n",
       "      <td>844</td>\n",
       "      <td>1</td>\n",
       "      <td>5000</td>\n",
       "      <td>2788.53</td>\n",
       "      <td>213</td>\n",
       "      <td>0</td>\n",
       "      <td>425.07</td>\n",
       "      <td>...</td>\n",
       "      <td>0.0</td>\n",
       "      <td>0.0</td>\n",
       "      <td>0.0</td>\n",
       "      <td>0.0</td>\n",
       "      <td>0.0</td>\n",
       "      <td>0.0</td>\n",
       "      <td>0.0</td>\n",
       "      <td>0.0</td>\n",
       "      <td>1.0</td>\n",
       "      <td>0.0</td>\n",
       "    </tr>\n",
       "    <tr>\n",
       "      <th>1</th>\n",
       "      <td>125367</td>\n",
       "      <td>3771.42</td>\n",
       "      <td>966</td>\n",
       "      <td>6285</td>\n",
       "      <td>1</td>\n",
       "      <td>5000</td>\n",
       "      <td>1228.58</td>\n",
       "      <td>966</td>\n",
       "      <td>0</td>\n",
       "      <td>180.97</td>\n",
       "      <td>...</td>\n",
       "      <td>0.0</td>\n",
       "      <td>0.0</td>\n",
       "      <td>0.0</td>\n",
       "      <td>0.0</td>\n",
       "      <td>0.0</td>\n",
       "      <td>0.0</td>\n",
       "      <td>0.0</td>\n",
       "      <td>0.0</td>\n",
       "      <td>1.0</td>\n",
       "      <td>0.0</td>\n",
       "    </tr>\n",
       "    <tr>\n",
       "      <th>2</th>\n",
       "      <td>406361</td>\n",
       "      <td>10893.43</td>\n",
       "      <td>349</td>\n",
       "      <td>6423</td>\n",
       "      <td>0</td>\n",
       "      <td>15000</td>\n",
       "      <td>4106.57</td>\n",
       "      <td>349</td>\n",
       "      <td>0</td>\n",
       "      <td>70.54</td>\n",
       "      <td>...</td>\n",
       "      <td>1.0</td>\n",
       "      <td>0.0</td>\n",
       "      <td>0.0</td>\n",
       "      <td>0.0</td>\n",
       "      <td>0.0</td>\n",
       "      <td>0.0</td>\n",
       "      <td>0.0</td>\n",
       "      <td>0.0</td>\n",
       "      <td>1.0</td>\n",
       "      <td>0.0</td>\n",
       "    </tr>\n",
       "    <tr>\n",
       "      <th>3</th>\n",
       "      <td>67861</td>\n",
       "      <td>7056.40</td>\n",
       "      <td>201</td>\n",
       "      <td>9511</td>\n",
       "      <td>1</td>\n",
       "      <td>7500</td>\n",
       "      <td>443.60</td>\n",
       "      <td>201</td>\n",
       "      <td>0</td>\n",
       "      <td>29.55</td>\n",
       "      <td>...</td>\n",
       "      <td>0.0</td>\n",
       "      <td>0.0</td>\n",
       "      <td>0.0</td>\n",
       "      <td>0.0</td>\n",
       "      <td>0.0</td>\n",
       "      <td>0.0</td>\n",
       "      <td>0.0</td>\n",
       "      <td>0.0</td>\n",
       "      <td>1.0</td>\n",
       "      <td>0.0</td>\n",
       "    </tr>\n",
       "    <tr>\n",
       "      <th>4</th>\n",
       "      <td>617754</td>\n",
       "      <td>239.47</td>\n",
       "      <td>528</td>\n",
       "      <td>4040</td>\n",
       "      <td>1</td>\n",
       "      <td>250</td>\n",
       "      <td>10.53</td>\n",
       "      <td>528</td>\n",
       "      <td>0</td>\n",
       "      <td>155.86</td>\n",
       "      <td>...</td>\n",
       "      <td>0.0</td>\n",
       "      <td>0.0</td>\n",
       "      <td>0.0</td>\n",
       "      <td>0.0</td>\n",
       "      <td>0.0</td>\n",
       "      <td>0.0</td>\n",
       "      <td>0.0</td>\n",
       "      <td>0.0</td>\n",
       "      <td>1.0</td>\n",
       "      <td>0.0</td>\n",
       "    </tr>\n",
       "  </tbody>\n",
       "</table>\n",
       "<p>5 rows × 2169 columns</p>\n",
       "</div>"
      ],
      "text/plain": [
       "    index  availableMoney  cardCVV  cardLast4Digits  cardPresent  creditLimit  \\\n",
       "0   14939         2211.47      213              844            1         5000   \n",
       "1  125367         3771.42      966             6285            1         5000   \n",
       "2  406361        10893.43      349             6423            0        15000   \n",
       "3   67861         7056.40      201             9511            1         7500   \n",
       "4  617754          239.47      528             4040            1          250   \n",
       "\n",
       "   currentBalance  enteredCVV  expirationDateKeyInMatch  transactionAmount  \\\n",
       "0         2788.53         213                         0             425.07   \n",
       "1         1228.58         966                         0             180.97   \n",
       "2         4106.57         349                         0              70.54   \n",
       "3          443.60         201                         0              29.55   \n",
       "4           10.53         528                         0             155.86   \n",
       "\n",
       "   ...  merchantCategoryCode_online_retail  \\\n",
       "0  ...                                 0.0   \n",
       "1  ...                                 0.0   \n",
       "2  ...                                 1.0   \n",
       "3  ...                                 0.0   \n",
       "4  ...                                 0.0   \n",
       "\n",
       "   merchantCategoryCode_online_subscriptions  \\\n",
       "0                                        0.0   \n",
       "1                                        0.0   \n",
       "2                                        0.0   \n",
       "3                                        0.0   \n",
       "4                                        0.0   \n",
       "\n",
       "   merchantCategoryCode_personal care  merchantCategoryCode_rideshare  \\\n",
       "0                                 0.0                             0.0   \n",
       "1                                 0.0                             0.0   \n",
       "2                                 0.0                             0.0   \n",
       "3                                 0.0                             0.0   \n",
       "4                                 0.0                             0.0   \n",
       "\n",
       "   merchantCategoryCode_subscriptions  merchantCountryCode_CAN  \\\n",
       "0                                 0.0                      0.0   \n",
       "1                                 0.0                      0.0   \n",
       "2                                 0.0                      0.0   \n",
       "3                                 0.0                      0.0   \n",
       "4                                 0.0                      0.0   \n",
       "\n",
       "   merchantCountryCode_MEX  merchantCountryCode_PR  merchantCountryCode_US  \\\n",
       "0                      0.0                     0.0                     1.0   \n",
       "1                      0.0                     0.0                     1.0   \n",
       "2                      0.0                     0.0                     1.0   \n",
       "3                      0.0                     0.0                     1.0   \n",
       "4                      0.0                     0.0                     1.0   \n",
       "\n",
       "   merchantCountryCode_nan  \n",
       "0                      0.0  \n",
       "1                      0.0  \n",
       "2                      0.0  \n",
       "3                      0.0  \n",
       "4                      0.0  \n",
       "\n",
       "[5 rows x 2169 columns]"
      ]
     },
     "execution_count": 26,
     "metadata": {
      "tags": []
     },
     "output_type": "execute_result"
    }
   ],
   "source": [
    "transaction.head()"
   ]
  },
  {
   "cell_type": "code",
   "execution_count": 0,
   "metadata": {
    "colab": {},
    "colab_type": "code",
    "id": "DvyVmTAHZpWX",
    "outputId": "6f7a57fc-e409-4690-a7cd-691066a08275"
   },
   "outputs": [
    {
     "data": {
      "text/plain": [
       "GradientBoostingClassifier(criterion='friedman_mse', init=None,\n",
       "              learning_rate=0.1, loss='deviance', max_depth=3,\n",
       "              max_features=None, max_leaf_nodes=None,\n",
       "              min_impurity_decrease=0.0, min_impurity_split=None,\n",
       "              min_samples_leaf=1, min_samples_split=2,\n",
       "              min_weight_fraction_leaf=0.0, n_estimators=100,\n",
       "              n_iter_no_change=None, presort='auto', random_state=None,\n",
       "              subsample=1.0, tol=0.0001, validation_fraction=0.1,\n",
       "              verbose=0, warm_start=False)"
      ]
     },
     "execution_count": 27,
     "metadata": {
      "tags": []
     },
     "output_type": "execute_result"
    }
   ],
   "source": [
    "# from sklearn.linear_model import LogisticRegression\n",
    "# from sklearn.svm import SVC\n",
    "# from sklearn.neighbors import KNeighborsClassifier\n",
    "# from sklearn.tree import DecisionTreeClassifier\n",
    "# from sklearn.ensemble import RandomForestClassifier\n",
    "# from sklearn.tree import DecisionTreeClassifier\n",
    "from sklearn.ensemble import GradientBoostingClassifier\n",
    "\n",
    "model = GradientBoostingClassifier()\n",
    "# model = SVC()\n",
    "\n",
    "model.fit(X_train,y_train)"
   ]
  },
  {
   "cell_type": "code",
   "execution_count": 0,
   "metadata": {
    "colab": {},
    "colab_type": "code",
    "id": "eTybrjkXZpWa"
   },
   "outputs": [],
   "source": [
    "y_pred = model.predict(X_test)"
   ]
  },
  {
   "cell_type": "code",
   "execution_count": 0,
   "metadata": {
    "colab": {},
    "colab_type": "code",
    "id": "g4GM0_dXZpWc"
   },
   "outputs": [],
   "source": [
    "from sklearn.metrics import roc_curve, auc\n",
    "\n",
    "fpr, tpr, _ = roc_curve(y_test, y_pred)\n",
    "roc_auc = auc(fpr, tpr)"
   ]
  },
  {
   "cell_type": "code",
   "execution_count": 0,
   "metadata": {
    "colab": {},
    "colab_type": "code",
    "id": "iRlSJ4MHZpWd",
    "outputId": "834a3944-2761-4c23-f38d-a2992316df55"
   },
   "outputs": [
    {
     "data": {
      "image/png": "[encoded data removed]",
      "text/plain": [
       "<Figure size 432x288 with 1 Axes>"
      ]
     },
     "metadata": {
      "needs_background": "light",
      "tags": []
     },
     "output_type": "display_data"
    }
   ],
   "source": [
    "import matplotlib.pyplot as plt\n",
    "\n",
    "plt.figure()\n",
    "lw = 2\n",
    "plt.plot(fpr, tpr, color='darkorange',\n",
    "         lw=lw, label='ROC curve (area = %0.2f)' % roc_auc)\n",
    "plt.plot([0, 1], [0, 1], color='navy', lw=lw, linestyle='--')\n",
    "plt.xlim([0.0, 1.0])\n",
    "plt.ylim([0.0, 1.05])\n",
    "plt.xlabel('False Positive Rate')\n",
    "plt.ylabel('True Positive Rate')\n",
    "plt.title('Receiver operating characteristic example')\n",
    "plt.legend(loc=\"lower right\")\n",
    "plt.show()"
   ]
  },
  {
   "cell_type": "code",
   "execution_count": 0,
   "metadata": {
    "colab": {},
    "colab_type": "code",
    "id": "7OJGIY8mZpWf"
   },
   "outputs": [],
   "source": []
  }
 ],
 "metadata": {
  "colab": {
   "name": "Fraud detection.ipynb",
   "provenance": []
  },
  "kernelspec": {
   "display_name": "Python 3",
   "language": "python",
   "name": "python3"
  },
  "language_info": {
   "codemirror_mode": {
    "name": "ipython",
    "version": 3
   },
   "file_extension": ".py",
   "mimetype": "text/x-python",
   "name": "python",
   "nbconvert_exporter": "python",
   "pygments_lexer": "ipython3",
   "version": "3.7.4"
  }
 },
 "nbformat": 4,
 "nbformat_minor": 1
}
