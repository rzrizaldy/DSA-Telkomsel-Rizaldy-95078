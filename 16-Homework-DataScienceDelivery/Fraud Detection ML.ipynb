{
 "cells": [
  {
   "cell_type": "markdown",
   "metadata": {},
   "source": [
    "# Data Preparation"
   ]
  },
  {
   "cell_type": "markdown",
   "metadata": {},
   "source": [
    "## load data"
   ]
  },
  {
   "cell_type": "code",
   "execution_count": 1,
   "metadata": {},
   "outputs": [],
   "source": [
    "import pandas as pd\n",
    "\n",
    "data = pd.read_csv('transaction.csv', sep='|')"
   ]
  },
  {
   "cell_type": "markdown",
   "metadata": {},
   "source": [
    "## feature engineering\n",
    "this step include date preprocess, categorical encoding and using robust scaler on monetary values"
   ]
  },
  {
   "cell_type": "code",
   "execution_count": 2,
   "metadata": {},
   "outputs": [
    {
     "name": "stdout",
     "output_type": "stream",
     "text": [
      "transaction data contains 29 columns with 17 of it numerical, which quite small that it does not need dimensionality reduction\n"
     ]
    }
   ],
   "source": [
    "print('transaction data contains ' + str(data.shape[1])\n",
    "      + \" columns with \"\n",
    "      + str(data.select_dtypes(include=np.number).shape[1])\n",
    "      + \" of it numerical, which quite small that it does not need dimensionality reduction\")"
   ]
  },
  {
   "cell_type": "code",
   "execution_count": 3,
   "metadata": {},
   "outputs": [],
   "source": [
    "from sklearn.preprocessing import RobustScaler\n",
    "from sklearn.preprocessing import OneHotEncoder\n",
    "from pandas.api.types import CategoricalDtype\n",
    "\n",
    "\n",
    "class FeatureProcessor:\n",
    "    def __init__(self):\n",
    "        self.monetary_scaler = RobustScaler()\n",
    "        #         self.available_money_scaler = RobustScaler()\n",
    "        #         self.transaction_amount_scaler = RobustScaler()\n",
    "        #         self.current_balance_scaler = RobustScaler()\n",
    "        self.acq_country_categories = []\n",
    "        self.merchant_country_code_categories = []\n",
    "        self.transaction_type_categories = []\n",
    "        self.pos_entry_mode_categories = []\n",
    "        self.pos_condition_code_categories = []\n",
    "        self.merchant_category_code_categories = []\n",
    "\n",
    "    def fit(self, data):\n",
    "        self.monetary_scaler.fit(data[['creditLimit', 'availableMoney', 'transactionAmount', 'currentBalance']])\n",
    "        #         self.available_money_scaler.fit(data['availableMoney'])\n",
    "        #         self.transaction_amount_scaler.fit(data['transactionAmount'])\n",
    "        #         self.current_balance_scaler.fit(data['currentBalance'])\n",
    "        self.acq_country_categories = CategoricalDtype(categories=data['acqCountry'].dropna().unique().tolist(),\n",
    "                                                       ordered=True)\n",
    "        self.merchant_country_code_categories = CategoricalDtype(categories=data['merchantCountryCode'].\n",
    "                                                                 dropna().unique().tolist(), ordered=True)\n",
    "        self.transaction_type_categories = CategoricalDtype(categories=data['transactionType'].\n",
    "                                                            dropna().unique().tolist(), ordered=True)\n",
    "        self.pos_entry_mode_categories = CategoricalDtype(categories=data['posEntryMode'].\n",
    "                                                          dropna().astype('str').unique().tolist(), ordered=True)\n",
    "        self.pos_condition_code_categories = CategoricalDtype(categories=data['posConditionCode'].\n",
    "                                                              dropna().astype('str').unique().tolist(), ordered=True)\n",
    "        self.merchant_category_code_categories = CategoricalDtype(categories=data['merchantCategoryCode'].\n",
    "                                                                  dropna().unique().tolist(), ordered=True)\n",
    "\n",
    "    def transform(self, data):\n",
    "        # drop missing data\n",
    "        column_dropped = ['merchantCity', 'merchantState', 'merchantZip', 'echoBuffer',\n",
    "                          'posOnPremises', 'recurringAuthInd']\n",
    "        new_data = data.drop(columns=column_dropped)\n",
    "        # dates features\n",
    "        new_data['transactionDateTime'] = pd.to_datetime(new_data['transactionDateTime'], format=\"%Y-%m-%dT%H:%M:%S\")\n",
    "        new_data['currentExpDate'] = pd.to_datetime(new_data['currentExpDate'], format=\"%m/%Y\")\n",
    "        new_data['accountOpenDate'] = pd.to_datetime(new_data['accountOpenDate'], format=\"%Y-%m-%d\")\n",
    "        new_data['dateOfLastAddressChange'] = pd.to_datetime(new_data['dateOfLastAddressChange'], format=\"%Y-%m-%d\")\n",
    "        new_data['transactionMonth'] = new_data['transactionDateTime'].dt.strftime(\"%m\").astype('int')\n",
    "        new_data['transactionDayssOfWeek'] = new_data['transactionDateTime'].dt.strftime(\"%w\").astype('int')\n",
    "        new_data['transactionHour'] = new_data['transactionDateTime'].dt.strftime(\"%H\").astype('int')\n",
    "        new_data['expiryFromTransactionDays'] = (new_data['currentExpDate'] - new_data['transactionDateTime']).dt.days\n",
    "        new_data['expiryFromOpenDays'] = (new_data['currentExpDate'] - new_data['accountOpenDate']).dt.days\n",
    "        new_data['transactionFromOpenDays'] = (new_data['transactionDateTime'] - new_data['accountOpenDate']).dt.days\n",
    "        new_data['transactionFromAddressChangeDays'] = (new_data['transactionDateTime']\n",
    "                                                        - new_data['dateOfLastAddressChange']).dt.days\n",
    "        new_data['addressChangeFromOpenDays'] = (new_data['dateOfLastAddressChange']\n",
    "                                                 - new_data['accountOpenDate']).dt.days\n",
    "        # monetary features\n",
    "        new_data[['creditLimit', 'availableMoney', 'transactionAmount', 'currentBalance']] = \\\n",
    "            self.monetary_scaler.transform(new_data[['creditLimit', 'availableMoney',\n",
    "                                                     'transactionAmount', 'currentBalance']])\n",
    "        # new_data['availableMoney'] = self.available_money_scaler.transform(new_data['availableMonet'])\n",
    "        # new_data['transactionAmount'] = self.transaction_amount_scaler.transform(new_data['transactionAmount'])\n",
    "        # new_data['currentBalance'] = self.current_balance_scaler.transform(new_data['currentBalance'])\n",
    "        # card features\n",
    "        new_data['matchedCVV'] = new_data['cardCVV'] == new_data['enteredCVV']\n",
    "        # country features\n",
    "        new_data['countryMatch'] = data['acqCountry'] == data['merchantCountryCode']\n",
    "        new_data['acqCountry'] = new_data['acqCountry'].astype(self.acq_country_categories)\n",
    "        new_data = pd.concat([new_data,\n",
    "                              pd.get_dummies(new_data['acqCountry'],\n",
    "                                             prefix='acqCountry', dummy_na=True)], axis=1).drop(['acqCountry'], axis=1)\n",
    "        new_data['merchantCountryCode'] = new_data['merchantCountryCode'].\\\n",
    "            astype(self.merchant_country_code_categories)\n",
    "        new_data = pd.concat([new_data,\n",
    "                              pd.get_dummies(new_data['merchantCountryCode'],\n",
    "                                             prefix='merchantCountryCode', dummy_na=True)], axis=1).\\\n",
    "            drop(['merchantCountryCode'], axis=1)\n",
    "        # transaction type features\n",
    "        new_data['transactionType'] = new_data['transactionType'].astype(self.transaction_type_categories)\n",
    "        new_data = pd.concat([new_data,\n",
    "                              pd.get_dummies(new_data['transactionType'],\n",
    "                                             prefix='transactionType',\n",
    "                                             dummy_na=True)], axis=1).drop(['transactionType'], axis=1)\n",
    "        # pos code features\n",
    "        new_data['posEntryMode'] = new_data['posEntryMode'].astype('str').\\\n",
    "            astype(self.pos_entry_mode_categories)\n",
    "        new_data = pd.concat([new_data,\n",
    "                              pd.get_dummies(new_data['posEntryMode'],\n",
    "                                             prefix='posEntryMode',\n",
    "                                             dummy_na=True)], axis=1).drop(['posEntryMode'], axis=1)\n",
    "        new_data['posConditionCode'] = new_data['posConditionCode'].astype('str').\\\n",
    "            astype(self.pos_condition_code_categories)\n",
    "        new_data = pd.concat([new_data,\n",
    "                              pd.get_dummies(new_data['posConditionCode'],\n",
    "                                             prefix='posConditionCode',\n",
    "                                             dummy_na=True)], axis=1).drop(['posConditionCode'], axis=1)\n",
    "        # merchant features\n",
    "        new_data['merchantCategoryCode'] = new_data['merchantCategoryCode'].\\\n",
    "            astype(self.merchant_category_code_categories)\n",
    "        new_data = pd.concat([new_data,\n",
    "                              pd.get_dummies(new_data['merchantCategoryCode'],\n",
    "                                             prefix='merchantCategoryCode',\n",
    "                                             dummy_na=True)], axis=1).drop(['merchantCategoryCode'], axis=1)\n",
    "\n",
    "        # label encode\n",
    "        new_data['isFraud'] = new_data['isFraud'] + 0\n",
    "\n",
    "        # drop unused variable\n",
    "        new_data = new_data.drop(columns=['accountNumber', 'customerId', 'transactionDateTime', 'currentExpDate',\n",
    "                                          'accountOpenDate', 'dateOfLastAddressChange', 'merchantName'])\n",
    "\n",
    "        # return processed data\n",
    "        return (new_data, new_data.drop(columns=['isFraud']), new_data['isFraud'])\n"
   ]
  },
  {
   "cell_type": "code",
   "execution_count": 4,
   "metadata": {},
   "outputs": [],
   "source": [
    "preprocessor = FeatureProcessor()\n",
    "preprocessor.fit(data)\n",
    "\n",
    "pre_data, X, y = preprocessor.transform(data)"
   ]
  },
  {
   "cell_type": "markdown",
   "metadata": {},
   "source": [
    "from\n",
    "sklearn import svm\n",
    "from sklearn.datasets import make_classification\n",
    "from sklearn.feature_selection import SelectKBest\n",
    "from sklearn.feature_selection import f_regression\n",
    "from sklearn.pipeline import Pipeline\n",
    "# generate some data to play with\n",
    "X, y = make_classification(\n",
    "    n_informative=5, n_redundant=0, random_state=42)\n",
    "# ANOVA SVM-C\n",
    "anova_filter = SelectKBest(f_regression, k=5)\n",
    "clf = svm.SVC(kernel='linear')\n",
    "anova_svm = Pipeline([('anova', anova_filter), ('svc', clf)])\n",
    "# You can set the parameters using the names issued\n",
    "# For instance, fit using a k of 10 in the SelectKBest\n",
    "# and a parameter 'C' of the svm\n",
    "anova_svm.set_params(anova__k=10, svc__C=.1).fit(X, y)\n",
    "\n",
    "prediction = anova_svm.predict(X)\n",
    "anova_svm.score(X, y)\n",
    "\n",
    "# getting the selected features chosen by anova_filter\n",
    "anova_svm['anova'].get_support()\n",
    "\n",
    "\n",
    "\n",
    "# Another way to get selected features chosen by anova_filter\n",
    "anova_svm.named_steps.anova.get_support()\n",
    "\n",
    "\n",
    "\n",
    "# Indexing can also be used to extract a sub-pipeline.\n",
    "sub_pipeline = anova_svm[:1]\n",
    "sub_pipeline\n",
    "\n",
    "coef = anova_svm[-1].coef_\n",
    "anova_svm['svc'] is anova_svm[-1]\n",
    "\n",
    "coef.shape\n",
    "\n",
    "sub_pipeline.inverse_transform(coef).shape\n"
   ]
  },
  {
   "cell_type": "markdown",
   "metadata": {},
   "source": [
    "## fix imbalance dataset"
   ]
  },
  {
   "cell_type": "code",
   "execution_count": 36,
   "metadata": {},
   "outputs": [],
   "source": [
    "from imblearn.over_sampling import SMOTE, ADASYN\n",
    "from imblearn.combine import SMOTETomek\n",
    "\n",
    "# X_resampled, y_resampled = SMOTE().fit_resample(X, y)\n",
    "\n",
    "\n",
    "X_resampled, y_resampled = SMOTETomek().fit_resample(X, y)\n"
   ]
  },
  {
   "cell_type": "markdown",
   "metadata": {},
   "source": [
    "## train test split"
   ]
  },
  {
   "cell_type": "code",
   "execution_count": 5,
   "metadata": {},
   "outputs": [],
   "source": [
    "from sklearn.model_selection import train_test_split\n",
    "\n",
    "X_train, X_test, y_train, y_test = train_test_split(X, y, test_size=0.3, random_state=42)"
   ]
  },
  {
   "cell_type": "markdown",
   "metadata": {},
   "source": [
    "# XGBoost"
   ]
  },
  {
   "cell_type": "markdown",
   "metadata": {},
   "source": [
    "## Hyper Parameter Search"
   ]
  },
  {
   "cell_type": "code",
   "execution_count": 13,
   "metadata": {},
   "outputs": [],
   "source": [
    "from sklearn.model_selection import StratifiedKFold, TimeSeriesSplit\n",
    "from sklearn.metrics import roc_auc_score\n",
    "from xgboost import plot_importance\n",
    "from sklearn.metrics import make_scorer\n",
    "from hyperopt import STATUS_OK, Trials, fmin, hp, tpe, space_eval\n",
    "import time\n",
    "import xgboost as xgb\n",
    "import gc\n",
    "\n",
    "\n",
    "def objective(params):\n",
    "    time1 = time.time()\n",
    "    params = {\n",
    "        'max_depth': int(params['max_depth']),\n",
    "        'gamma': \"{:.3f}\".format(params['gamma']),\n",
    "        'subsample': \"{:.2f}\".format(params['subsample']),\n",
    "        'reg_alpha': \"{:.3f}\".format(params['reg_alpha']),\n",
    "        'reg_lambda': \"{:.3f}\".format(params['reg_lambda']),\n",
    "        'learning_rate': \"{:.3f}\".format(params['learning_rate']),\n",
    "        'num_leaves': '{:.3f}'.format(params['num_leaves']),\n",
    "        'colsample_bytree': '{:.3f}'.format(params['colsample_bytree']),\n",
    "        'min_child_samples': '{:.3f}'.format(params['min_child_samples']),\n",
    "        'feature_fraction': '{:.3f}'.format(params['feature_fraction']),\n",
    "        'bagging_fraction': '{:.3f}'.format(params['bagging_fraction'])\n",
    "    }\n",
    "\n",
    "    print(\"\\n############## New Run ################\")\n",
    "    print(f\"params = {params}\")\n",
    "    FOLDS = 7\n",
    "    count = 1\n",
    "    skf = StratifiedKFold(n_splits=FOLDS, shuffle=True, random_state=42)\n",
    "\n",
    "    tss = TimeSeriesSplit(n_splits=FOLDS)\n",
    "    # y_preds = np.zeros(sample_submission.shape[0])\n",
    "    # y_oof = np.zeros(X_train.shape[0])\n",
    "    score_mean = 0\n",
    "    for tr_idx, val_idx in tss.split(X_train, y_train):\n",
    "        clf = xgb.XGBClassifier(\n",
    "            n_estimators=600, random_state=4, verbose=True,\n",
    "            tree_method='gpu_hist',\n",
    "            **params\n",
    "        )\n",
    "\n",
    "        X_tr, X_vl = X_train.iloc[tr_idx, :], X_train.iloc[val_idx, :]\n",
    "        y_tr, y_vl = y_train.iloc[tr_idx], y_train.iloc[val_idx]\n",
    "\n",
    "        clf.fit(X_tr, y_tr)\n",
    "        # y_pred_train = clf.predict_proba(X_vl)[:,1]\n",
    "        # print(y_pred_train)\n",
    "        score = make_scorer(roc_auc_score, needs_proba=True)(clf, X_vl, y_vl)\n",
    "        # plt.show()\n",
    "        score_mean += score\n",
    "        print(f'{count} CV - score: {round(score, 4)}')\n",
    "        count += 1\n",
    "    time2 = time.time() - time1\n",
    "    print(f\"Total Time Run: {round(time2 / 60,2)}\")\n",
    "    gc.collect()\n",
    "    print(f'Mean ROC_AUC: {score_mean / FOLDS}')\n",
    "    del X_tr, X_vl, y_tr, y_vl, clf, score\n",
    "    return -(score_mean / FOLDS)\n",
    "\n",
    "\n",
    "space = {\n",
    "    # The maximum depth of a tree, same as GBM.\n",
    "    # Used to control over-fitting as higher depth will allow model\n",
    "    # to learn relations very specific to a particular sample.\n",
    "    # Should be tuned using CV.\n",
    "    # Typical values: 3-10\n",
    "    'max_depth': hp.quniform('max_depth', 7, 23, 1),\n",
    "\n",
    "    # reg_alpha: L1 regularization term. L1 regularization encourages sparsity\n",
    "    # (meaning pulling weights to 0). It can be more useful when the objective\n",
    "    # is logistic regression since you might need help with feature selection.\n",
    "    'reg_alpha': hp.uniform('reg_alpha', 0.01, 0.4),\n",
    "\n",
    "    # reg_lambda: L2 regularization term. L2 encourages smaller weights, this\n",
    "    # approach can be more useful in tree-models where zeroing\n",
    "    # features might not make much sense.\n",
    "    'reg_lambda': hp.uniform('reg_lambda', 0.01, .4),\n",
    "\n",
    "    # eta: Analogous to learning rate in GBM\n",
    "    # Makes the model more robust by shrinking the weights on each step\n",
    "    # Typical final values to be used: 0.01-0.2\n",
    "    'learning_rate': hp.uniform('learning_rate', 0.01, 0.2),\n",
    "\n",
    "    # colsample_bytree: Similar to max_features in GBM. Denotes the\n",
    "    # fraction of columns to be randomly samples for each tree.\n",
    "    # Typical values: 0.5-1\n",
    "    'colsample_bytree': hp.uniform('colsample_bytree', 0.3, .9),\n",
    "\n",
    "    # A node is split only when the resulting split gives a positive\n",
    "    # reduction in the loss function. Gamma specifies the\n",
    "    # minimum loss reduction required to make a split.\n",
    "    # Makes the algorithm conservative. The values can vary depending on the loss function and should be tuned.\n",
    "    'gamma': hp.uniform('gamma', 0.01, .7),\n",
    "\n",
    "    # more increases accuracy, but may lead to overfitting.\n",
    "    # num_leaves: the number of leaf nodes to use. Having a large number\n",
    "    # of leaves will improve accuracy, but will also lead to overfitting.\n",
    "    'num_leaves': hp.choice('num_leaves', list(range(20, 250, 10))),\n",
    "\n",
    "    # specifies the minimum samples per leaf node.\n",
    "    # the minimum number of samples (data) to group into a leaf.\n",
    "    # The parameter can greatly assist with overfitting: larger sample\n",
    "    # sizes per leaf will reduce overfitting (but may lead to under-fitting).\n",
    "    'min_child_samples': hp.choice('min_child_samples', list(range(100, 250, 10))),\n",
    "\n",
    "    # subsample: represents a fraction of the rows (observations) to be\n",
    "    # considered when building each subtree. Tianqi Chen and Carlos Guestrin\n",
    "    # in their paper A Scalable Tree Boosting System recommend\n",
    "    'subsample': hp.choice('subsample', [0.2, 0.4, 0.5, 0.6, 0.7, .8, .9]),\n",
    "\n",
    "    # randomly select a fraction of the features.\n",
    "    # feature_fraction: controls the subsampling of features used\n",
    "    # for training (as opposed to subsampling the actual training data in\n",
    "    # the case of bagging). Smaller fractions reduce overfitting.\n",
    "    'feature_fraction': hp.uniform('feature_fraction', 0.4, .8),\n",
    "\n",
    "    # randomly bag or subsample training data.\n",
    "    'bagging_fraction': hp.uniform('bagging_fraction', 0.4, .9)\n",
    "\n",
    "    # bagging_fraction and bagging_freq: enables bagging (subsampling)\n",
    "    # of the training data. Both values need to be set for bagging to be used.\n",
    "    # The frequency controls how often (iteration) bagging is used. Smaller\n",
    "    # fractions and frequencies reduce overfitting.\n",
    "}"
   ]
  },
  {
   "cell_type": "markdown",
   "metadata": {},
   "source": [
    "### Set algoritm parameters\n",
    "best = fmin(fn=objective,\n",
    "            space=space,\n",
    "            algo=tpe.suggest,\n",
    "            max_evals=27)\n"
   ]
  },
  {
   "cell_type": "markdown",
   "metadata": {},
   "source": [
    "### Print best parameters\n",
    "best_params = space_eval(space, best)"
   ]
  },
  {
   "cell_type": "markdown",
   "metadata": {},
   "source": [
    "## Train and Test non SMOTE"
   ]
  },
  {
   "cell_type": "code",
   "execution_count": 16,
   "metadata": {},
   "outputs": [],
   "source": [
    "best_params = {'bagging_fraction': 0.42125209181922985,\n",
    "               'colsample_bytree': 0.6604000269557071,\n",
    "               'feature_fraction': 0.6521631863919439,\n",
    "               'gamma': 0.010123197853081717,\n",
    "               'learning_rate': 0.013224200479398276,\n",
    "               'max_depth': 13,\n",
    "               'min_child_samples': 200,\n",
    "               'num_leaves': 110,\n",
    "               'reg_alpha': 0.23568010861071798,\n",
    "               'reg_lambda': 0.17200619646922866,\n",
    "               'subsample': 0.8}"
   ]
  },
  {
   "cell_type": "code",
   "execution_count": 18,
   "metadata": {},
   "outputs": [
    {
     "data": {
      "text/plain": [
       "XGBClassifier(bagging_fraction=0.42125209181922985, base_score=0.5,\n",
       "              booster='gbtree', colsample_bylevel=1, colsample_bynode=1,\n",
       "              colsample_bytree=0.6604000269557071,\n",
       "              feature_fraction=0.6521631863919439, gamma=0.010123197853081717,\n",
       "              learning_rate=0.013224200479398276, max_delta_step=0,\n",
       "              max_depth=13, min_child_samples=200, min_child_weight=1,\n",
       "              missing=None, n_estimators=300, n_jobs=1, nthread=None,\n",
       "              num_leaves=110, objective='binary:logistic', random_state=0,\n",
       "              reg_alpha=0.23568010861071798, reg_lambda=0.17200619646922866,\n",
       "              scale_pos_weight=1, seed=None, silent=None, subsample=0.8,\n",
       "              verbosity=1)"
      ]
     },
     "execution_count": 18,
     "metadata": {},
     "output_type": "execute_result"
    }
   ],
   "source": [
    "clf = xgb.XGBClassifier(\n",
    "    n_estimators=300,\n",
    "    **best_params\n",
    ")\n",
    "\n",
    "clf.fit(X_train, y_train)\n"
   ]
  },
  {
   "cell_type": "code",
   "execution_count": 24,
   "metadata": {},
   "outputs": [],
   "source": [
    "y_preds_prob = clf.predict_proba(X_test)[:, 1]\n",
    "y_preds = clf.predict(X_test)"
   ]
  },
  {
   "cell_type": "markdown",
   "metadata": {},
   "source": [
    "### Test score and confusion matrix"
   ]
  },
  {
   "cell_type": "code",
   "execution_count": 31,
   "metadata": {},
   "outputs": [
    {
     "name": "stdout",
     "output_type": "stream",
     "text": [
      "ROC AUC score for data : 0.7915 \n",
      "Confusion matrix, without normalization\n",
      "[[189133      0]\n",
      " [  3440      2]]\n",
      "Normalized confusion matrix\n",
      "[[1.00000000e+00 0.00000000e+00]\n",
      " [9.99418942e-01 5.81057525e-04]]\n"
     ]
    },
    {
     "data": {
      "image/png": "[encoded data removed]",
      "text/plain": [
       "<Figure size 432x288 with 2 Axes>"
      ]
     },
     "metadata": {
      "needs_background": "light"
     },
     "output_type": "display_data"
    },
    {
     "data": {
      "image/png": "[encoded data removed]",
      "text/plain": [
       "<Figure size 432x288 with 2 Axes>"
      ]
     },
     "metadata": {
      "needs_background": "light"
     },
     "output_type": "display_data"
    }
   ],
   "source": [
    "from sklearn.metrics import confusion_matrix\n",
    "from sklearn.metrics import roc_auc_score\n",
    "import matplotlib.pyplot as plt\n",
    "from sklearn.metrics import plot_confusion_matrix\n",
    "\n",
    "print('ROC AUC score for data : {0:0.4f} '.format(roc_auc_score(y_test, y_preds_prob)))\n",
    "titles_options = [(\"Confusion matrix, without normalization\", None),\n",
    "                  (\"Normalized confusion matrix\", 'true')]\n",
    "for title, normalize in titles_options:\n",
    "    disp = plot_confusion_matrix(clf, X_test, y_test,\n",
    "                                 display_labels=['non Fraud', 'Fraud'],\n",
    "                                 cmap=plt.cm.Blues,\n",
    "                                 normalize=normalize)\n",
    "    disp.ax_.set_title(title)\n",
    "\n",
    "    print(title)\n",
    "    print(disp.confusion_matrix)\n",
    "\n",
    "plt.show()"
   ]
  },
  {
   "cell_type": "markdown",
   "metadata": {},
   "source": [
    "### Feature Importance"
   ]
  },
  {
   "cell_type": "code",
   "execution_count": 33,
   "metadata": {},
   "outputs": [
    {
     "data": {
      "text/html": [
       "<div>\n",
       "<style scoped>\n",
       "    .dataframe tbody tr th:only-of-type {\n",
       "        vertical-align: middle;\n",
       "    }\n",
       "\n",
       "    .dataframe tbody tr th {\n",
       "        vertical-align: top;\n",
       "    }\n",
       "\n",
       "    .dataframe thead th {\n",
       "        text-align: right;\n",
       "    }\n",
       "</style>\n",
       "<table border=\"1\" class=\"dataframe\">\n",
       "  <thead>\n",
       "    <tr style=\"text-align: right;\">\n",
       "      <th></th>\n",
       "      <th>score</th>\n",
       "    </tr>\n",
       "  </thead>\n",
       "  <tbody>\n",
       "    <tr>\n",
       "      <th>transactionAmount</th>\n",
       "      <td>20709</td>\n",
       "    </tr>\n",
       "    <tr>\n",
       "      <th>transactionFromOpenDays</th>\n",
       "      <td>15932</td>\n",
       "    </tr>\n",
       "    <tr>\n",
       "      <th>availableMoney</th>\n",
       "      <td>14633</td>\n",
       "    </tr>\n",
       "    <tr>\n",
       "      <th>expiryFromTransactionDays</th>\n",
       "      <td>14553</td>\n",
       "    </tr>\n",
       "    <tr>\n",
       "      <th>currentBalance</th>\n",
       "      <td>14455</td>\n",
       "    </tr>\n",
       "    <tr>\n",
       "      <th>expiryFromOpenDays</th>\n",
       "      <td>12728</td>\n",
       "    </tr>\n",
       "    <tr>\n",
       "      <th>transactionFromAddressChangeDays</th>\n",
       "      <td>12467</td>\n",
       "    </tr>\n",
       "    <tr>\n",
       "      <th>cardLast4Digits</th>\n",
       "      <td>12099</td>\n",
       "    </tr>\n",
       "    <tr>\n",
       "      <th>cardCVV</th>\n",
       "      <td>11815</td>\n",
       "    </tr>\n",
       "    <tr>\n",
       "      <th>transactionHour</th>\n",
       "      <td>9656</td>\n",
       "    </tr>\n",
       "    <tr>\n",
       "      <th>enteredCVV</th>\n",
       "      <td>6740</td>\n",
       "    </tr>\n",
       "    <tr>\n",
       "      <th>addressChangeFromOpenDays</th>\n",
       "      <td>6195</td>\n",
       "    </tr>\n",
       "    <tr>\n",
       "      <th>transactionMonth</th>\n",
       "      <td>5009</td>\n",
       "    </tr>\n",
       "    <tr>\n",
       "      <th>transactionDayssOfWeek</th>\n",
       "      <td>4439</td>\n",
       "    </tr>\n",
       "    <tr>\n",
       "      <th>creditLimit</th>\n",
       "      <td>3006</td>\n",
       "    </tr>\n",
       "    <tr>\n",
       "      <th>cardPresent</th>\n",
       "      <td>1106</td>\n",
       "    </tr>\n",
       "    <tr>\n",
       "      <th>merchantCategoryCode_food</th>\n",
       "      <td>1017</td>\n",
       "    </tr>\n",
       "    <tr>\n",
       "      <th>merchantCategoryCode_hotels</th>\n",
       "      <td>1013</td>\n",
       "    </tr>\n",
       "    <tr>\n",
       "      <th>posConditionCode_99.0</th>\n",
       "      <td>1008</td>\n",
       "    </tr>\n",
       "    <tr>\n",
       "      <th>merchantCategoryCode_online_retail</th>\n",
       "      <td>976</td>\n",
       "    </tr>\n",
       "  </tbody>\n",
       "</table>\n",
       "</div>"
      ],
      "text/plain": [
       "                                    score\n",
       "transactionAmount                   20709\n",
       "transactionFromOpenDays             15932\n",
       "availableMoney                      14633\n",
       "expiryFromTransactionDays           14553\n",
       "currentBalance                      14455\n",
       "expiryFromOpenDays                  12728\n",
       "transactionFromAddressChangeDays    12467\n",
       "cardLast4Digits                     12099\n",
       "cardCVV                             11815\n",
       "transactionHour                      9656\n",
       "enteredCVV                           6740\n",
       "addressChangeFromOpenDays            6195\n",
       "transactionMonth                     5009\n",
       "transactionDayssOfWeek               4439\n",
       "creditLimit                          3006\n",
       "cardPresent                          1106\n",
       "merchantCategoryCode_food            1017\n",
       "merchantCategoryCode_hotels          1013\n",
       "posConditionCode_99.0                1008\n",
       "merchantCategoryCode_online_retail    976"
      ]
     },
     "execution_count": 33,
     "metadata": {},
     "output_type": "execute_result"
    }
   ],
   "source": [
    "feature_important = clf.get_booster().get_score(importance_type=\"weight\")\n",
    "keys = list(feature_important.keys())\n",
    "values = list(feature_important.values())\n",
    "\n",
    "data = pd.DataFrame(data=values, index=keys, columns=[\"score\"]).sort_values(by = \"score\", ascending=False)\n",
    "\n",
    "# Top 10 features\n",
    "data.head(20)"
   ]
  },
  {
   "cell_type": "markdown",
   "metadata": {},
   "source": [
    "## Train and Test SMOTE"
   ]
  },
  {
   "cell_type": "code",
   "execution_count": 37,
   "metadata": {},
   "outputs": [],
   "source": [
    "X_orig = X\n",
    "y_orig = y\n",
    "\n",
    "X = X_resampled\n",
    "y = y_resampled\n",
    "\n",
    "X_train, X_test, y_train, y_test = train_test_split(X, y, test_size=0.3, random_state=42)"
   ]
  },
  {
   "cell_type": "code",
   "execution_count": 38,
   "metadata": {},
   "outputs": [],
   "source": [
    "best_params = {clf_SMOTEging_fraction': 0.42125209181922985,\n",
    "               'colsample_bytree': 0.6604000269557071,\n",
    "               'feature_fraction': 0.6521631863919439,\n",
    "               'gamma': 0.010123197853081717,\n",
    "               'learning_rate': 0.013224200479398276,\n",
    "               'max_depth': 13,\n",
    "               'min_child_samples': 200,\n",
    "               'num_leaves': 110,\n",
    "               'reg_alpha': 0.23568010861071798,\n",
    "               'reg_lambda': 0.17200619646922866,\n",
    "               'subsample': 0.8}"
   ]
  },
  {
   "cell_type": "code",
   "execution_count": 39,
   "metadata": {},
   "outputs": [
    {
     "data": {
      "text/plain": [
       "XGBClassifier(bagging_fraction=0.42125209181922985, base_score=0.5,\n",
       "              booster='gbtree', colsample_bylevel=1, colsample_bynode=1,\n",
       "              colsample_bytree=0.6604000269557071,\n",
       "              feature_fraction=0.6521631863919439, gamma=0.010123197853081717,\n",
       "              learning_rate=0.013224200479398276, max_delta_step=0,\n",
       "              max_depth=13, min_child_samples=200, min_child_weight=1,\n",
       "              missing=None, n_estimators=300, n_jobs=1, nthread=None,\n",
       "              num_leaves=110, objective='binary:logistic', random_state=0,\n",
       "              reg_alpha=0.23568010861071798, reg_lambda=0.17200619646922866,\n",
       "              scale_pos_weight=1, seed=None, silent=None, subsample=0.8,\n",
       "              verbosity=1)"
      ]
     },
     "execution_count": 39,
     "metadata": {},
     "output_type": "execute_result"
    }
   ],
   "source": [
    "clf_SMOTE = xgb.XGBClassifier(\n",
    "    n_estimators=300,\n",
    "    **best_params\n",
    ")\n",
    "\n",
    "clf_SMOTE.fit(X_train, y_train)\n"
   ]
  },
  {
   "cell_type": "code",
   "execution_count": 44,
   "metadata": {},
   "outputs": [],
   "source": [
    "y_preds_prob = clf_SMOTE.predict_proba(X_test)[:, 1]\n",
    "y_preds = clf_SMOTE.predict(X_test)"
   ]
  },
  {
   "cell_type": "markdown",
   "metadata": {},
   "source": [
    "### Test score and confusion matrix"
   ]
  },
  {
   "cell_type": "code",
   "execution_count": 45,
   "metadata": {},
   "outputs": [
    {
     "name": "stdout",
     "output_type": "stream",
     "text": [
      "ROC AUC score for data : 0.9961 \n",
      "Confusion matrix, without normalization\n",
      "[[186385   1909]\n",
      " [  5575 182762]]\n",
      "Normalized confusion matrix\n",
      "[[0.9898616  0.0101384 ]\n",
      " [0.02960119 0.97039881]]\n"
     ]
    },
    {
     "data": {
      "image/png": "[encoded data removed]",
      "text/plain": [
       "<Figure size 432x288 with 2 Axes>"
      ]
     },
     "metadata": {
      "needs_background": "light"
     },
     "output_type": "display_data"
    },
    {
     "data": {
      "image/png": "[encoded data removed]",
      "text/plain": [
       "<Figure size 432x288 with 2 Axes>"
      ]
     },
     "metadata": {
      "needs_background": "light"
     },
     "output_type": "display_data"
    }
   ],
   "source": [
    "print('ROC AUC score for data : {0:0.4f} '.format(roc_auc_score(y_test, y_preds_prob)))\n",
    "titles_options = [(\"Confusion matrix, without normalization\", None),\n",
    "                  (\"Normalized confusion matrix\", 'true')]\n",
    "for title, normalize in titles_options:\n",
    "    disp = plot_confusion_matrix(clf_SMOTE, X_test, y_test,\n",
    "                                 display_labels=['non Fraud', 'Fraud'],\n",
    "                                 cmap=plt.cm.Blues,\n",
    "                                 normalize=normalize)\n",
    "    disp.ax_.set_title(title)\n",
    "\n",
    "    print(title)\n",
    "    print(disp.confusion_matrix)\n",
    "\n",
    "plt.show()"
   ]
  },
  {
   "cell_type": "code",
   "execution_count": 46,
   "metadata": {},
   "outputs": [
    {
     "name": "stdout",
     "output_type": "stream",
     "text": [
      "ROC AUC score for original data : 0.8853 \n",
      "Confusion matrix, without normalization\n",
      "[[624957   5655]\n",
      " [  9016   2286]]\n",
      "Normalized confusion matrix\n",
      "[[0.99103252 0.00896748]\n",
      " [0.79773491 0.20226509]]\n"
     ]
    },
    {
     "data": {
      "image/png": "[encoded data removed]",
      "text/plain": [
       "<Figure size 432x288 with 2 Axes>"
      ]
     },
     "metadata": {
      "needs_background": "light"
     },
     "output_type": "display_data"
    },
    {
     "data": {
      "image/png": "[encoded data removed]",
      "text/plain": [
       "<Figure size 432x288 with 2 Axes>"
      ]
     },
     "metadata": {
      "needs_background": "light"
     },
     "output_type": "display_data"
    }
   ],
   "source": [
    "print('ROC AUC score for original data : {0:0.4f} '.format(roc_auc_score(y_orig,  clf_SMOTE.predict_proba(X_orig)[:, 1])))\n",
    "titles_options = [(\"Confusion matrix, without normalization\", None),\n",
    "                  (\"Normalized confusion matrix\", 'true')]\n",
    "for title, normalize in titles_options:\n",
    "    disp = plot_confusion_matrix(clf_SMOTE, X_orig, y_orig,\n",
    "                                 display_labels=['non Fraud', 'Fraud'],\n",
    "                                 cmap=plt.cm.Blues,\n",
    "                                 normalize=normalize)\n",
    "    disp.ax_.set_title(title)\n",
    "\n",
    "    print(title)\n",
    "    print(disp.confusion_matrix)\n",
    "\n",
    "plt.show()"
   ]
  },
  {
   "cell_type": "markdown",
   "metadata": {},
   "source": [
    "### Feature Importance"
   ]
  },
  {
   "cell_type": "code",
   "execution_count": 47,
   "metadata": {},
   "outputs": [
    {
     "data": {
      "text/html": [
       "<div>\n",
       "<style scoped>\n",
       "    .dataframe tbody tr th:only-of-type {\n",
       "        vertical-align: middle;\n",
       "    }\n",
       "\n",
       "    .dataframe tbody tr th {\n",
       "        vertical-align: top;\n",
       "    }\n",
       "\n",
       "    .dataframe thead th {\n",
       "        text-align: right;\n",
       "    }\n",
       "</style>\n",
       "<table border=\"1\" class=\"dataframe\">\n",
       "  <thead>\n",
       "    <tr style=\"text-align: right;\">\n",
       "      <th></th>\n",
       "      <th>score</th>\n",
       "    </tr>\n",
       "  </thead>\n",
       "  <tbody>\n",
       "    <tr>\n",
       "      <th>cardLast4Digits</th>\n",
       "      <td>42452</td>\n",
       "    </tr>\n",
       "    <tr>\n",
       "      <th>expiryFromOpenDays</th>\n",
       "      <td>40585</td>\n",
       "    </tr>\n",
       "    <tr>\n",
       "      <th>expiryFromTransactionDays</th>\n",
       "      <td>40425</td>\n",
       "    </tr>\n",
       "    <tr>\n",
       "      <th>transactionFromOpenDays</th>\n",
       "      <td>36653</td>\n",
       "    </tr>\n",
       "    <tr>\n",
       "      <th>transactionAmount</th>\n",
       "      <td>32459</td>\n",
       "    </tr>\n",
       "    <tr>\n",
       "      <th>cardCVV</th>\n",
       "      <td>31697</td>\n",
       "    </tr>\n",
       "    <tr>\n",
       "      <th>transactionFromAddressChangeDays</th>\n",
       "      <td>30357</td>\n",
       "    </tr>\n",
       "    <tr>\n",
       "      <th>availableMoney</th>\n",
       "      <td>29056</td>\n",
       "    </tr>\n",
       "    <tr>\n",
       "      <th>currentBalance</th>\n",
       "      <td>28892</td>\n",
       "    </tr>\n",
       "    <tr>\n",
       "      <th>creditLimit</th>\n",
       "      <td>24272</td>\n",
       "    </tr>\n",
       "    <tr>\n",
       "      <th>addressChangeFromOpenDays</th>\n",
       "      <td>22305</td>\n",
       "    </tr>\n",
       "    <tr>\n",
       "      <th>transactionHour</th>\n",
       "      <td>20207</td>\n",
       "    </tr>\n",
       "    <tr>\n",
       "      <th>enteredCVV</th>\n",
       "      <td>17980</td>\n",
       "    </tr>\n",
       "    <tr>\n",
       "      <th>transactionMonth</th>\n",
       "      <td>16116</td>\n",
       "    </tr>\n",
       "    <tr>\n",
       "      <th>transactionDayssOfWeek</th>\n",
       "      <td>11562</td>\n",
       "    </tr>\n",
       "    <tr>\n",
       "      <th>posConditionCode_1.0</th>\n",
       "      <td>5216</td>\n",
       "    </tr>\n",
       "    <tr>\n",
       "      <th>transactionType_PURCHASE</th>\n",
       "      <td>4993</td>\n",
       "    </tr>\n",
       "    <tr>\n",
       "      <th>cardPresent</th>\n",
       "      <td>2720</td>\n",
       "    </tr>\n",
       "    <tr>\n",
       "      <th>merchantCountryCode_US</th>\n",
       "      <td>2587</td>\n",
       "    </tr>\n",
       "    <tr>\n",
       "      <th>acqCountry_US</th>\n",
       "      <td>2508</td>\n",
       "    </tr>\n",
       "  </tbody>\n",
       "</table>\n",
       "</div>"
      ],
      "text/plain": [
       "                                  score\n",
       "cardLast4Digits                   42452\n",
       "expiryFromOpenDays                40585\n",
       "expiryFromTransactionDays         40425\n",
       "transactionFromOpenDays           36653\n",
       "transactionAmount                 32459\n",
       "cardCVV                           31697\n",
       "transactionFromAddressChangeDays  30357\n",
       "availableMoney                    29056\n",
       "currentBalance                    28892\n",
       "creditLimit                       24272\n",
       "addressChangeFromOpenDays         22305\n",
       "transactionHour                   20207\n",
       "enteredCVV                        17980\n",
       "transactionMonth                  16116\n",
       "transactionDayssOfWeek            11562\n",
       "posConditionCode_1.0               5216\n",
       "transactionType_PURCHASE           4993\n",
       "cardPresent                        2720\n",
       "merchantCountryCode_US             2587\n",
       "acqCountry_US                      2508"
      ]
     },
     "execution_count": 47,
     "metadata": {},
     "output_type": "execute_result"
    }
   ],
   "source": [
    "feature_important = clf_SMOTE.get_booster().get_score(importance_type=\"weight\")\n",
    "keys = list(feature_important.keys())\n",
    "values = list(feature_important.values())\n",
    "\n",
    "data = pd.DataFrame(data=values, index=keys, columns=[\"score\"]).sort_values(by = \"score\", ascending=False)\n",
    "\n",
    "# Top 10 features\n",
    "data.head(20)"
   ]
  },
  {
   "cell_type": "code",
   "execution_count": null,
   "metadata": {},
   "outputs": [],
   "source": []
  }
 ],
 "metadata": {
  "kernelspec": {
   "display_name": "Python 3",
   "language": "python",
   "name": "python3"
  },
  "language_info": {
   "codemirror_mode": {
    "name": "ipython",
    "version": 3
   },
   "file_extension": ".py",
   "mimetype": "text/x-python",
   "name": "python",
   "nbconvert_exporter": "python",
   "pygments_lexer": "ipython3",
   "version": "3.7.3"
  }
 },
 "nbformat": 4,
 "nbformat_minor": 4
}
